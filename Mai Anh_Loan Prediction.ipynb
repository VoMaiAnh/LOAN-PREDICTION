{
 "cells": [
  {
   "cell_type": "markdown",
   "id": "6053466c",
   "metadata": {},
   "source": [
    "<a id=\"Header\"></a>\n",
    "<div style=\"color:white;\n",
    "           display:fill;\n",
    "           border-radius:30px;\n",
    "           background-color:#0D4C92;\n",
    "           font-size:250%;\n",
    "           font-family:Verdana;\n",
    "           letter-spacing:0.5px\">\n",
    "\n",
    "<p style=\"padding: 10px;\n",
    "          text-align:center;\n",
    "          color:white;\">\n",
    "          LOAN PREDICTION\n",
    "</p>\n",
    "</div>"
   ]
  },
  {
   "cell_type": "markdown",
   "id": "e085deda",
   "metadata": {},
   "source": [
    "<p style=\"text-align:center\">\n",
    "    <img src=\"https://img.etimg.com/thumb/width-1200,height-900,imgsize-18534,resizemode-1,msid-93105346/wealth/borrow/10-best-no-credit-check-loans-and-bad-credit-loans-with-guaranteed-approval.jpg\" width=\"250\" alt=\"Water\"  />\n",
    "    </a>\n",
    "</p>"
   ]
  },
  {
   "cell_type": "markdown",
   "id": "187de77b",
   "metadata": {},
   "source": [
    "<a id=\"Table\"></a>\n",
    "<div style=\"color:white;\n",
    "           display:fill;\n",
    "           border-radius:30px;\n",
    "           background-color:#93BEE9;\n",
    "           font-size:250%;\n",
    "           font-family:Verdana;\n",
    "           letter-spacing:0.5px\">\n",
    "\n",
    "<p style=\"padding: 10px;\n",
    "          text-align:center;\n",
    "          color:white;\">\n",
    "          Table of Contents\n",
    "</p>\n",
    "</div>\n",
    "\n",
    "\n",
    "* [1. Introduction](#1)\n",
    "    * [1.1 Import Libraries](#1.1)\n",
    "    * [1.2 Load the Dataset](#1.2)\n",
    "    * [1.3 An Overview of the Dataset](#1.3)\n",
    "    \n",
    "    \n",
    "* [2. EDA & Data Preprocessing](#2)\n",
    "    * [2.1 Descriptive Statistics](#2.1)\n",
    "    * [2.2 Identify and handle missing values](#2.2)\n",
    "    * [2.3 Correct data format](#2.3)\n",
    "    * [2.4 Data distributions & Outliers](#2.4)\n",
    "    * [2.5 Normalize data](#2.5)\n",
    "    * [2.6 Handle outliers](#2.6)\n",
    "    * [2.7 Correlation Heatmap](#2.7)\n",
    "    \n",
    "    \n",
    "* [3. Prediction Model](#3)\n",
    "    * [3.1 Prepare the data for model building](#3.1)\n",
    "    * [3.2 Build the models](#3.2)\n",
    "    * [3.3 Evaluate the models](#3.3)\n",
    "    * [3.4 Confusion Matrix](#3.4)\n",
    "\n",
    "* [4. Conclusion & Recommendation](#4)\n",
    "    * [4.1 Model selection](#4.1)\n",
    "    * [4.2 Model Deployment](#4.2)\n",
    " \n",
    "* [5. References](#5)"
   ]
  },
  {
   "cell_type": "markdown",
   "id": "7b0f2e1c",
   "metadata": {},
   "source": [
    "<a id=\"1\"></a>\n",
    "<div style=\"color:white;\n",
    "           display:fill;\n",
    "           border-radius:30px;\n",
    "           background-color:#59C1BD;\n",
    "           font-size:250%;\n",
    "           font-family:Verdana;\n",
    "           letter-spacing:0.5px\">\n",
    "\n",
    "<p style=\"padding: 10px;\n",
    "          text-align:center;\n",
    "          color:white;\">\n",
    "          1.Introduction\n",
    "</p>\n",
    "</div>"
   ]
  },
  {
   "cell_type": "markdown",
   "id": "a941aca1",
   "metadata": {},
   "source": [
    "[Return Table of Contents](#Table)"
   ]
  },
  {
   "cell_type": "markdown",
   "id": "3cbad356",
   "metadata": {},
   "source": [
    "### About The Dataset\n",
    "#### Context\n",
    "> Company X deals in all home loans. They have a presence across all urban, semi-urban, and rural areas. Customer-first applies for a home loan after that company validates the customer eligibility for a loan. The company wants to automate the loan eligibility process (real-time) based on customer detail provided while filling out the online application form.\n",
    "\n",
    "#### Content\n",
    "> This dataset contains the loan history of the company's previous customers. The detail of each column of the dataset is as follows:\n",
    "\n",
    "|No.|Column Name|Description|\n",
    "|---|---|---|\n",
    "|1|Loan_ID|Unique Loan ID|\n",
    "|2|Gender|Male/ Female|\n",
    "|4|Dependents|Number of dependents|\n",
    "|5|Education|Applicant Education (Graduate/ Undergraduate)|\n",
    "|6|Self_Employed|Self-employed (Y/N)|\n",
    "|7|ApplicantIncome|Applicant income|\n",
    "|8|CoapplicantIncome|Coapplicant income|\n",
    "|9|LoanAmount|Loan amount in thousands|\n",
    "|10|Loan_Amount_Term|Term of a loan in months|\n",
    "|11|Credit_History|credit history meets guidelines|\n",
    "|12|Property_Area|Urban / Semi-Urban / Rural|\n",
    "|13|Loan_Status|Loan approved (Y/N)|\n",
    "\n",
    "#### Main Task\n",
    "The main purpose of this project is to explore the dataset and create a simple model to predict the loan status for new customers\n"
   ]
  },
  {
   "cell_type": "markdown",
   "id": "d45d1440",
   "metadata": {},
   "source": [
    "<a id=\"1.1\"></a>\n",
    "<div style=\"color:white;\n",
    "           display:fill;\n",
    "           border-radius:30px;\n",
    "           background-color:#A0E4CB;\n",
    "           font-size:200%;\n",
    "           font-family:Verdana;\n",
    "           letter-spacing:0.5px\">\n",
    "\n",
    "<p style=\"padding: 5px;\n",
    "          text-align:center;\n",
    "          color:Black;\">\n",
    "          1.1 Import Libraries \n",
    "</p>\n",
    "</div>"
   ]
  },
  {
   "cell_type": "code",
   "execution_count": 1,
   "id": "73cc07fc",
   "metadata": {},
   "outputs": [],
   "source": [
    "import numpy as np \n",
    "import pandas as pd \n",
    "import seaborn as sns\n",
    "import matplotlib.pyplot as plt\n",
    "import seaborn as sns\n",
    "\n",
    "import warnings\n",
    "warnings.filterwarnings('ignore')"
   ]
  },
  {
   "cell_type": "markdown",
   "id": "9d1492b0",
   "metadata": {},
   "source": [
    "<a id=\"1.2\"></a>\n",
    "<div style=\"color:white;\n",
    "           display:fill;\n",
    "           border-radius:30px;\n",
    "           background-color:#A0E4CB;\n",
    "           font-size:200%;\n",
    "           font-family:Verdana;\n",
    "           letter-spacing:0.5px\">\n",
    "\n",
    "<p style=\"padding: 5px;\n",
    "          text-align:center;\n",
    "          color:Black;\">\n",
    "          1.2 Load The dataset \n",
    "</p>\n",
    "</div>"
   ]
  },
  {
   "cell_type": "code",
   "execution_count": 2,
   "id": "d26dbc20",
   "metadata": {
    "scrolled": false
   },
   "outputs": [
    {
     "data": {
      "text/html": [
       "<div>\n",
       "<style scoped>\n",
       "    .dataframe tbody tr th:only-of-type {\n",
       "        vertical-align: middle;\n",
       "    }\n",
       "\n",
       "    .dataframe tbody tr th {\n",
       "        vertical-align: top;\n",
       "    }\n",
       "\n",
       "    .dataframe thead th {\n",
       "        text-align: right;\n",
       "    }\n",
       "</style>\n",
       "<table border=\"1\" class=\"dataframe\">\n",
       "  <thead>\n",
       "    <tr style=\"text-align: right;\">\n",
       "      <th></th>\n",
       "      <th>Loan_ID</th>\n",
       "      <th>Gender</th>\n",
       "      <th>Married</th>\n",
       "      <th>Dependents</th>\n",
       "      <th>Education</th>\n",
       "      <th>Self_Employed</th>\n",
       "      <th>ApplicantIncome</th>\n",
       "      <th>CoapplicantIncome</th>\n",
       "      <th>LoanAmount</th>\n",
       "      <th>Loan_Amount_Term</th>\n",
       "      <th>Credit_History</th>\n",
       "      <th>Property_Area</th>\n",
       "      <th>Loan_Status</th>\n",
       "    </tr>\n",
       "  </thead>\n",
       "  <tbody>\n",
       "    <tr>\n",
       "      <th>0</th>\n",
       "      <td>LP001002</td>\n",
       "      <td>Male</td>\n",
       "      <td>No</td>\n",
       "      <td>0</td>\n",
       "      <td>Graduate</td>\n",
       "      <td>No</td>\n",
       "      <td>5849</td>\n",
       "      <td>0.0</td>\n",
       "      <td>NaN</td>\n",
       "      <td>360.0</td>\n",
       "      <td>1.0</td>\n",
       "      <td>Urban</td>\n",
       "      <td>Y</td>\n",
       "    </tr>\n",
       "    <tr>\n",
       "      <th>1</th>\n",
       "      <td>LP001003</td>\n",
       "      <td>Male</td>\n",
       "      <td>Yes</td>\n",
       "      <td>1</td>\n",
       "      <td>Graduate</td>\n",
       "      <td>No</td>\n",
       "      <td>4583</td>\n",
       "      <td>1508.0</td>\n",
       "      <td>128.0</td>\n",
       "      <td>360.0</td>\n",
       "      <td>1.0</td>\n",
       "      <td>Rural</td>\n",
       "      <td>N</td>\n",
       "    </tr>\n",
       "    <tr>\n",
       "      <th>2</th>\n",
       "      <td>LP001005</td>\n",
       "      <td>Male</td>\n",
       "      <td>Yes</td>\n",
       "      <td>0</td>\n",
       "      <td>Graduate</td>\n",
       "      <td>Yes</td>\n",
       "      <td>3000</td>\n",
       "      <td>0.0</td>\n",
       "      <td>66.0</td>\n",
       "      <td>360.0</td>\n",
       "      <td>1.0</td>\n",
       "      <td>Urban</td>\n",
       "      <td>Y</td>\n",
       "    </tr>\n",
       "    <tr>\n",
       "      <th>3</th>\n",
       "      <td>LP001006</td>\n",
       "      <td>Male</td>\n",
       "      <td>Yes</td>\n",
       "      <td>0</td>\n",
       "      <td>Not Graduate</td>\n",
       "      <td>No</td>\n",
       "      <td>2583</td>\n",
       "      <td>2358.0</td>\n",
       "      <td>120.0</td>\n",
       "      <td>360.0</td>\n",
       "      <td>1.0</td>\n",
       "      <td>Urban</td>\n",
       "      <td>Y</td>\n",
       "    </tr>\n",
       "    <tr>\n",
       "      <th>4</th>\n",
       "      <td>LP001008</td>\n",
       "      <td>Male</td>\n",
       "      <td>No</td>\n",
       "      <td>0</td>\n",
       "      <td>Graduate</td>\n",
       "      <td>No</td>\n",
       "      <td>6000</td>\n",
       "      <td>0.0</td>\n",
       "      <td>141.0</td>\n",
       "      <td>360.0</td>\n",
       "      <td>1.0</td>\n",
       "      <td>Urban</td>\n",
       "      <td>Y</td>\n",
       "    </tr>\n",
       "  </tbody>\n",
       "</table>\n",
       "</div>"
      ],
      "text/plain": [
       "    Loan_ID Gender Married Dependents     Education Self_Employed  \\\n",
       "0  LP001002   Male      No          0      Graduate            No   \n",
       "1  LP001003   Male     Yes          1      Graduate            No   \n",
       "2  LP001005   Male     Yes          0      Graduate           Yes   \n",
       "3  LP001006   Male     Yes          0  Not Graduate            No   \n",
       "4  LP001008   Male      No          0      Graduate            No   \n",
       "\n",
       "   ApplicantIncome  CoapplicantIncome  LoanAmount  Loan_Amount_Term  \\\n",
       "0             5849                0.0         NaN             360.0   \n",
       "1             4583             1508.0       128.0             360.0   \n",
       "2             3000                0.0        66.0             360.0   \n",
       "3             2583             2358.0       120.0             360.0   \n",
       "4             6000                0.0       141.0             360.0   \n",
       "\n",
       "   Credit_History Property_Area Loan_Status  \n",
       "0             1.0         Urban           Y  \n",
       "1             1.0         Rural           N  \n",
       "2             1.0         Urban           Y  \n",
       "3             1.0         Urban           Y  \n",
       "4             1.0         Urban           Y  "
      ]
     },
     "execution_count": 2,
     "metadata": {},
     "output_type": "execute_result"
    }
   ],
   "source": [
    "df = pd.read_csv('company-x-loan.csv')\n",
    "df.head()"
   ]
  },
  {
   "cell_type": "markdown",
   "id": "01461649",
   "metadata": {},
   "source": [
    "<a id=\"1.3\"></a>\n",
    "<div style=\"color:white;\n",
    "           display:fill;\n",
    "           border-radius:30px;\n",
    "           background-color:#A0E4CB;\n",
    "           font-size:200%;\n",
    "           font-family:Verdana;\n",
    "           letter-spacing:0.5px\">\n",
    "\n",
    "<p style=\"padding: 5px;\n",
    "          text-align:center;\n",
    "          color:Black;\">\n",
    "          1.3 An Overview Of The Dataset\n",
    "</p>\n",
    "</div>"
   ]
  },
  {
   "cell_type": "code",
   "execution_count": 3,
   "id": "0d0e5185",
   "metadata": {
    "scrolled": true
   },
   "outputs": [
    {
     "data": {
      "text/plain": [
       "(614, 13)"
      ]
     },
     "execution_count": 3,
     "metadata": {},
     "output_type": "execute_result"
    }
   ],
   "source": [
    "df.shape"
   ]
  },
  {
   "cell_type": "markdown",
   "id": "e7a5c09b",
   "metadata": {},
   "source": [
    "> The dataset contains 614 rows and 13 columns."
   ]
  },
  {
   "cell_type": "code",
   "execution_count": 4,
   "id": "5ba64b07",
   "metadata": {},
   "outputs": [
    {
     "name": "stdout",
     "output_type": "stream",
     "text": [
      "<class 'pandas.core.frame.DataFrame'>\n",
      "RangeIndex: 614 entries, 0 to 613\n",
      "Data columns (total 13 columns):\n",
      " #   Column             Non-Null Count  Dtype  \n",
      "---  ------             --------------  -----  \n",
      " 0   Loan_ID            614 non-null    object \n",
      " 1   Gender             601 non-null    object \n",
      " 2   Married            611 non-null    object \n",
      " 3   Dependents         599 non-null    object \n",
      " 4   Education          614 non-null    object \n",
      " 5   Self_Employed      582 non-null    object \n",
      " 6   ApplicantIncome    614 non-null    int64  \n",
      " 7   CoapplicantIncome  614 non-null    float64\n",
      " 8   LoanAmount         592 non-null    float64\n",
      " 9   Loan_Amount_Term   600 non-null    float64\n",
      " 10  Credit_History     564 non-null    float64\n",
      " 11  Property_Area      614 non-null    object \n",
      " 12  Loan_Status        614 non-null    object \n",
      "dtypes: float64(4), int64(1), object(8)\n",
      "memory usage: 62.5+ KB\n"
     ]
    }
   ],
   "source": [
    "df.info()"
   ]
  },
  {
   "cell_type": "markdown",
   "id": "31ed660f",
   "metadata": {},
   "source": [
    "> This dataset contains missing values and some columns have incorrect data type"
   ]
  },
  {
   "cell_type": "markdown",
   "id": "49bad9f2",
   "metadata": {},
   "source": [
    "<a id=\"2\"></a>\n",
    "<div style=\"color:white;\n",
    "           display:fill;\n",
    "           border-radius:30px;\n",
    "           background-color:#59C1BD;\n",
    "           font-size:250%;\n",
    "           font-family:Verdana;\n",
    "           letter-spacing:0.5px\">\n",
    "\n",
    "<p style=\"padding: 10px;\n",
    "          text-align:center;\n",
    "          color:white;\">\n",
    "          2. EDA & Data Preprocessing\n",
    "</p>\n",
    "</div>"
   ]
  },
  {
   "cell_type": "markdown",
   "id": "7a58caff",
   "metadata": {},
   "source": [
    "[Return Table of Contents](#Table)"
   ]
  },
  {
   "cell_type": "markdown",
   "id": "9b95fa6a",
   "metadata": {},
   "source": [
    "<a id=\"2.1\"></a>\n",
    "<div style=\"color:white;\n",
    "           display:fill;\n",
    "           border-radius:30px;\n",
    "           background-color:#A0E4CB;\n",
    "           font-size:200%;\n",
    "           font-family:Verdana;\n",
    "           letter-spacing:0.5px\">\n",
    "\n",
    "<p style=\"padding: 5px;\n",
    "          text-align:center;\n",
    "          color:Black;\">\n",
    "          2.1. Descriptive Statistics\n",
    "</p>\n",
    "</div>"
   ]
  },
  {
   "cell_type": "markdown",
   "id": "2088f0e7",
   "metadata": {},
   "source": [
    "### Categorical Data"
   ]
  },
  {
   "cell_type": "code",
   "execution_count": 5,
   "id": "859bc3b0",
   "metadata": {
    "scrolled": true
   },
   "outputs": [
    {
     "data": {
      "text/html": [
       "<div>\n",
       "<style scoped>\n",
       "    .dataframe tbody tr th:only-of-type {\n",
       "        vertical-align: middle;\n",
       "    }\n",
       "\n",
       "    .dataframe tbody tr th {\n",
       "        vertical-align: top;\n",
       "    }\n",
       "\n",
       "    .dataframe thead th {\n",
       "        text-align: right;\n",
       "    }\n",
       "</style>\n",
       "<table border=\"1\" class=\"dataframe\">\n",
       "  <thead>\n",
       "    <tr style=\"text-align: right;\">\n",
       "      <th></th>\n",
       "      <th>Loan_ID</th>\n",
       "      <th>Gender</th>\n",
       "      <th>Married</th>\n",
       "      <th>Dependents</th>\n",
       "      <th>Education</th>\n",
       "      <th>Self_Employed</th>\n",
       "      <th>Property_Area</th>\n",
       "      <th>Loan_Status</th>\n",
       "    </tr>\n",
       "  </thead>\n",
       "  <tbody>\n",
       "    <tr>\n",
       "      <th>count</th>\n",
       "      <td>614</td>\n",
       "      <td>601</td>\n",
       "      <td>611</td>\n",
       "      <td>599</td>\n",
       "      <td>614</td>\n",
       "      <td>582</td>\n",
       "      <td>614</td>\n",
       "      <td>614</td>\n",
       "    </tr>\n",
       "    <tr>\n",
       "      <th>unique</th>\n",
       "      <td>614</td>\n",
       "      <td>2</td>\n",
       "      <td>2</td>\n",
       "      <td>4</td>\n",
       "      <td>2</td>\n",
       "      <td>2</td>\n",
       "      <td>3</td>\n",
       "      <td>2</td>\n",
       "    </tr>\n",
       "    <tr>\n",
       "      <th>top</th>\n",
       "      <td>LP002435</td>\n",
       "      <td>Male</td>\n",
       "      <td>Yes</td>\n",
       "      <td>0</td>\n",
       "      <td>Graduate</td>\n",
       "      <td>No</td>\n",
       "      <td>Semiurban</td>\n",
       "      <td>Y</td>\n",
       "    </tr>\n",
       "    <tr>\n",
       "      <th>freq</th>\n",
       "      <td>1</td>\n",
       "      <td>489</td>\n",
       "      <td>398</td>\n",
       "      <td>345</td>\n",
       "      <td>480</td>\n",
       "      <td>500</td>\n",
       "      <td>233</td>\n",
       "      <td>422</td>\n",
       "    </tr>\n",
       "  </tbody>\n",
       "</table>\n",
       "</div>"
      ],
      "text/plain": [
       "         Loan_ID Gender Married Dependents Education Self_Employed  \\\n",
       "count        614    601     611        599       614           582   \n",
       "unique       614      2       2          4         2             2   \n",
       "top     LP002435   Male     Yes          0  Graduate            No   \n",
       "freq           1    489     398        345       480           500   \n",
       "\n",
       "       Property_Area Loan_Status  \n",
       "count            614         614  \n",
       "unique             3           2  \n",
       "top        Semiurban           Y  \n",
       "freq             233         422  "
      ]
     },
     "execution_count": 5,
     "metadata": {},
     "output_type": "execute_result"
    }
   ],
   "source": [
    "df.describe(include='object')"
   ]
  },
  {
   "cell_type": "markdown",
   "id": "df30a552",
   "metadata": {},
   "source": [
    "### Numerical Data"
   ]
  },
  {
   "cell_type": "code",
   "execution_count": 6,
   "id": "2b5bff06",
   "metadata": {
    "scrolled": true
   },
   "outputs": [
    {
     "data": {
      "text/html": [
       "<div>\n",
       "<style scoped>\n",
       "    .dataframe tbody tr th:only-of-type {\n",
       "        vertical-align: middle;\n",
       "    }\n",
       "\n",
       "    .dataframe tbody tr th {\n",
       "        vertical-align: top;\n",
       "    }\n",
       "\n",
       "    .dataframe thead th {\n",
       "        text-align: right;\n",
       "    }\n",
       "</style>\n",
       "<table border=\"1\" class=\"dataframe\">\n",
       "  <thead>\n",
       "    <tr style=\"text-align: right;\">\n",
       "      <th></th>\n",
       "      <th>ApplicantIncome</th>\n",
       "      <th>CoapplicantIncome</th>\n",
       "      <th>LoanAmount</th>\n",
       "      <th>Loan_Amount_Term</th>\n",
       "      <th>Credit_History</th>\n",
       "    </tr>\n",
       "  </thead>\n",
       "  <tbody>\n",
       "    <tr>\n",
       "      <th>count</th>\n",
       "      <td>614.000000</td>\n",
       "      <td>614.000000</td>\n",
       "      <td>592.000000</td>\n",
       "      <td>600.00000</td>\n",
       "      <td>564.000000</td>\n",
       "    </tr>\n",
       "    <tr>\n",
       "      <th>mean</th>\n",
       "      <td>5403.459283</td>\n",
       "      <td>1621.245798</td>\n",
       "      <td>146.412162</td>\n",
       "      <td>342.00000</td>\n",
       "      <td>0.842199</td>\n",
       "    </tr>\n",
       "    <tr>\n",
       "      <th>std</th>\n",
       "      <td>6109.041673</td>\n",
       "      <td>2926.248369</td>\n",
       "      <td>85.587325</td>\n",
       "      <td>65.12041</td>\n",
       "      <td>0.364878</td>\n",
       "    </tr>\n",
       "    <tr>\n",
       "      <th>min</th>\n",
       "      <td>150.000000</td>\n",
       "      <td>0.000000</td>\n",
       "      <td>9.000000</td>\n",
       "      <td>12.00000</td>\n",
       "      <td>0.000000</td>\n",
       "    </tr>\n",
       "    <tr>\n",
       "      <th>25%</th>\n",
       "      <td>2877.500000</td>\n",
       "      <td>0.000000</td>\n",
       "      <td>100.000000</td>\n",
       "      <td>360.00000</td>\n",
       "      <td>1.000000</td>\n",
       "    </tr>\n",
       "    <tr>\n",
       "      <th>50%</th>\n",
       "      <td>3812.500000</td>\n",
       "      <td>1188.500000</td>\n",
       "      <td>128.000000</td>\n",
       "      <td>360.00000</td>\n",
       "      <td>1.000000</td>\n",
       "    </tr>\n",
       "    <tr>\n",
       "      <th>75%</th>\n",
       "      <td>5795.000000</td>\n",
       "      <td>2297.250000</td>\n",
       "      <td>168.000000</td>\n",
       "      <td>360.00000</td>\n",
       "      <td>1.000000</td>\n",
       "    </tr>\n",
       "    <tr>\n",
       "      <th>max</th>\n",
       "      <td>81000.000000</td>\n",
       "      <td>41667.000000</td>\n",
       "      <td>700.000000</td>\n",
       "      <td>480.00000</td>\n",
       "      <td>1.000000</td>\n",
       "    </tr>\n",
       "  </tbody>\n",
       "</table>\n",
       "</div>"
      ],
      "text/plain": [
       "       ApplicantIncome  CoapplicantIncome  LoanAmount  Loan_Amount_Term  \\\n",
       "count       614.000000         614.000000  592.000000         600.00000   \n",
       "mean       5403.459283        1621.245798  146.412162         342.00000   \n",
       "std        6109.041673        2926.248369   85.587325          65.12041   \n",
       "min         150.000000           0.000000    9.000000          12.00000   \n",
       "25%        2877.500000           0.000000  100.000000         360.00000   \n",
       "50%        3812.500000        1188.500000  128.000000         360.00000   \n",
       "75%        5795.000000        2297.250000  168.000000         360.00000   \n",
       "max       81000.000000       41667.000000  700.000000         480.00000   \n",
       "\n",
       "       Credit_History  \n",
       "count      564.000000  \n",
       "mean         0.842199  \n",
       "std          0.364878  \n",
       "min          0.000000  \n",
       "25%          1.000000  \n",
       "50%          1.000000  \n",
       "75%          1.000000  \n",
       "max          1.000000  "
      ]
     },
     "execution_count": 6,
     "metadata": {},
     "output_type": "execute_result"
    }
   ],
   "source": [
    "df.describe()"
   ]
  },
  {
   "cell_type": "markdown",
   "id": "3baae13d",
   "metadata": {},
   "source": [
    "### Check duplicates"
   ]
  },
  {
   "cell_type": "code",
   "execution_count": 7,
   "id": "4f0ab782",
   "metadata": {},
   "outputs": [
    {
     "data": {
      "text/plain": [
       "False"
      ]
     },
     "execution_count": 7,
     "metadata": {},
     "output_type": "execute_result"
    }
   ],
   "source": [
    "df.duplicated().any()"
   ]
  },
  {
   "cell_type": "markdown",
   "id": "90098909",
   "metadata": {},
   "source": [
    "> There is no duplicated rows in the dataset"
   ]
  },
  {
   "cell_type": "markdown",
   "id": "46f7fc04",
   "metadata": {},
   "source": [
    "<a id=\"2.2\"></a>\n",
    "<div style=\"color:white;\n",
    "           display:fill;\n",
    "           border-radius:30px;\n",
    "           background-color:#A0E4CB;\n",
    "           font-size:200%;\n",
    "           font-family:Verdana;\n",
    "           letter-spacing:0.5px\">\n",
    "\n",
    "<p style=\"padding: 5px;\n",
    "          text-align:center;\n",
    "          color:Black;\">\n",
    "          2.2. Identify and handle missing values\n",
    "</p>\n",
    "</div>"
   ]
  },
  {
   "cell_type": "markdown",
   "id": "a0192cab",
   "metadata": {},
   "source": [
    "<h3 id=\"identify_missing_values\">Identify missing values</h3>"
   ]
  },
  {
   "cell_type": "code",
   "execution_count": 8,
   "id": "e58698d6",
   "metadata": {},
   "outputs": [
    {
     "data": {
      "text/plain": [
       "Loan_ID               0\n",
       "Gender               13\n",
       "Married               3\n",
       "Dependents           15\n",
       "Education             0\n",
       "Self_Employed        32\n",
       "ApplicantIncome       0\n",
       "CoapplicantIncome     0\n",
       "LoanAmount           22\n",
       "Loan_Amount_Term     14\n",
       "Credit_History       50\n",
       "Property_Area         0\n",
       "Loan_Status           0\n",
       "dtype: int64"
      ]
     },
     "execution_count": 8,
     "metadata": {},
     "output_type": "execute_result"
    }
   ],
   "source": [
    "df.isnull().sum()"
   ]
  },
  {
   "cell_type": "markdown",
   "id": "3afd2f5a",
   "metadata": {},
   "source": [
    "> Based on the summary above, each column has 614 rows of data, 7 columns containing missing data:\n",
    "\n",
    "><ol>\n",
    "    ><li>\"Gender\": 13 missing data</li>\n",
    "    ><li>\"Married\": 3 missing data</li>\n",
    "    ><li>\"Dependents\": 15 missing data</li>\n",
    "    ><li>\"Self_Employed\" : 32 missing data</li>\n",
    "    ><li>\"LoanAmount\": 22 missing data</li>\n",
    "    ><li>\"Loan_Amount_Term\": 14 missing data</li>\n",
    "    <li>\"Credit_History\": 50 missing data</li>\n",
    "></ol>"
   ]
  },
  {
   "cell_type": "markdown",
   "id": "e47c47af",
   "metadata": {},
   "source": [
    "<h3 id=\"handle_missing_values\">Handle missing values</h3>\n",
    "<span style=\"color:blue\"> STEP 1: Drop rows with more than 1 missing values</span> "
   ]
  },
  {
   "cell_type": "code",
   "execution_count": 9,
   "id": "39b1a0e6",
   "metadata": {},
   "outputs": [],
   "source": [
    "df.dropna(how='any',thresh=12,inplace=True)"
   ]
  },
  {
   "cell_type": "code",
   "execution_count": 10,
   "id": "4bf70af6",
   "metadata": {},
   "outputs": [
    {
     "data": {
      "text/plain": [
       "Loan_ID               0\n",
       "Gender               12\n",
       "Married               0\n",
       "Dependents           10\n",
       "Education             0\n",
       "Self_Employed        25\n",
       "ApplicantIncome       0\n",
       "CoapplicantIncome     0\n",
       "LoanAmount           19\n",
       "Loan_Amount_Term     12\n",
       "Credit_History       43\n",
       "Property_Area         0\n",
       "Loan_Status           0\n",
       "dtype: int64"
      ]
     },
     "execution_count": 10,
     "metadata": {},
     "output_type": "execute_result"
    }
   ],
   "source": [
    "df.isnull().sum()"
   ]
  },
  {
   "cell_type": "markdown",
   "id": "7d50a350",
   "metadata": {},
   "source": [
    "<span style=\"color:blue\"> STEP 2: Replace numerical data by mean</span> "
   ]
  },
  {
   "cell_type": "code",
   "execution_count": 11,
   "id": "bb4fee68",
   "metadata": {},
   "outputs": [],
   "source": [
    "df['LoanAmount'].fillna(df['LoanAmount'].mean(),inplace=True)"
   ]
  },
  {
   "cell_type": "code",
   "execution_count": 12,
   "id": "fd623989",
   "metadata": {},
   "outputs": [
    {
     "data": {
      "text/plain": [
       "Loan_ID               0\n",
       "Gender               12\n",
       "Married               0\n",
       "Dependents           10\n",
       "Education             0\n",
       "Self_Employed        25\n",
       "ApplicantIncome       0\n",
       "CoapplicantIncome     0\n",
       "LoanAmount            0\n",
       "Loan_Amount_Term     12\n",
       "Credit_History       43\n",
       "Property_Area         0\n",
       "Loan_Status           0\n",
       "dtype: int64"
      ]
     },
     "execution_count": 12,
     "metadata": {},
     "output_type": "execute_result"
    }
   ],
   "source": [
    "df.isnull().sum()"
   ]
  },
  {
   "cell_type": "markdown",
   "id": "24ebf736",
   "metadata": {},
   "source": [
    "<span style=\"color:blue\"> STEP 3: Replace categorical data by mode</span> "
   ]
  },
  {
   "cell_type": "code",
   "execution_count": 13,
   "id": "37a62bd7",
   "metadata": {},
   "outputs": [],
   "source": [
    "df['Gender'].fillna(df['Gender'].mode()[0],inplace=True)\n",
    "df['Dependents'].fillna(df['Dependents'].mode()[0],inplace=True)\n",
    "df['Self_Employed'].fillna(df['Self_Employed'].mode()[0],inplace=True)\n",
    "df['Loan_Amount_Term'].fillna(df['Loan_Amount_Term'].mode()[0],inplace=True)\n",
    "df['Credit_History'].fillna(df['Credit_History'].mode()[0],inplace=True)"
   ]
  },
  {
   "cell_type": "code",
   "execution_count": 14,
   "id": "0ccc43e7",
   "metadata": {},
   "outputs": [
    {
     "data": {
      "text/plain": [
       "Loan_ID              0\n",
       "Gender               0\n",
       "Married              0\n",
       "Dependents           0\n",
       "Education            0\n",
       "Self_Employed        0\n",
       "ApplicantIncome      0\n",
       "CoapplicantIncome    0\n",
       "LoanAmount           0\n",
       "Loan_Amount_Term     0\n",
       "Credit_History       0\n",
       "Property_Area        0\n",
       "Loan_Status          0\n",
       "dtype: int64"
      ]
     },
     "execution_count": 14,
     "metadata": {},
     "output_type": "execute_result"
    }
   ],
   "source": [
    "df.isnull().sum()"
   ]
  },
  {
   "cell_type": "markdown",
   "id": "53c06d1e",
   "metadata": {},
   "source": [
    "> All missing data has been dropped or replaced"
   ]
  },
  {
   "cell_type": "markdown",
   "id": "d5908d1a",
   "metadata": {},
   "source": [
    "<a id=\"2.3\"></a>\n",
    "<div style=\"color:white;\n",
    "           display:fill;\n",
    "           border-radius:30px;\n",
    "           background-color:#A0E4CB;\n",
    "           font-size:200%;\n",
    "           font-family:Verdana;\n",
    "           letter-spacing:0.5px\">\n",
    "\n",
    "<p style=\"padding: 5px;\n",
    "          text-align:center;\n",
    "          color:Black;\">\n",
    "          2.3. Correct data format\n",
    "</p>\n",
    "</div>"
   ]
  },
  {
   "cell_type": "code",
   "execution_count": 15,
   "id": "f89a6f08",
   "metadata": {},
   "outputs": [],
   "source": [
    "# The ApplicantIncome column should be converted into float type to match the CoapplicantIncome column\n",
    "df[\"ApplicantIncome\"] = df[\"ApplicantIncome\"].astype('float64')\n",
    "\n",
    "# Term of a loan is counted by months so the Loan_Amount_Term should be converted into int type\n",
    "df[\"Loan_Amount_Term\"] = df[\"Loan_Amount_Term\"].astype('int64')"
   ]
  },
  {
   "cell_type": "markdown",
   "id": "497282b0",
   "metadata": {},
   "source": [
    "<a id=\"2.4\"></a>\n",
    "<div style=\"color:white;\n",
    "           display:fill;\n",
    "           border-radius:30px;\n",
    "           background-color:#A0E4CB;\n",
    "           font-size:200%;\n",
    "           font-family:Verdana;\n",
    "           letter-spacing:0.5px\">\n",
    "\n",
    "<p style=\"padding: 5px;\n",
    "          text-align:center;\n",
    "          color:Black;\">\n",
    "          2.4. Data distributions & Outliers\n",
    "</p>\n",
    "</div>"
   ]
  },
  {
   "cell_type": "markdown",
   "id": "c1cb1dc4",
   "metadata": {},
   "source": [
    "### Continuous numerical data distribution"
   ]
  },
  {
   "cell_type": "code",
   "execution_count": 16,
   "id": "e79521a0",
   "metadata": {},
   "outputs": [
    {
     "data": {
      "text/plain": [
       "Text(0.5, 0.98, 'Visualizing continuous numerical columns')"
      ]
     },
     "execution_count": 16,
     "metadata": {},
     "output_type": "execute_result"
    },
    {
     "data": {
      "image/png": "[encoded data removed]",
      "text/plain": [
       "<Figure size 288x72 with 1 Axes>"
      ]
     },
     "metadata": {
      "needs_background": "light"
     },
     "output_type": "display_data"
    },
    {
     "data": {
      "image/png": "[encoded data removed]",
      "text/plain": [
       "<Figure size 1440x1080 with 6 Axes>"
      ]
     },
     "metadata": {
      "needs_background": "light"
     },
     "output_type": "display_data"
    }
   ],
   "source": [
    "theme = ['#2786b5', '#C2D7E8', '#FFBF69', '#FF9F1C']\n",
    "sns.palplot(sns.color_palette(theme))\n",
    "\n",
    "import warnings\n",
    "warnings.filterwarnings('ignore')\n",
    "\n",
    "num_cols = ['ApplicantIncome','CoapplicantIncome','LoanAmount']\n",
    "\n",
    "fig,ax = plt.subplots(len(num_cols), 2, figsize=(20,15))\n",
    "for index,i in enumerate(num_cols ):\n",
    "    sns.distplot(df[i], ax = ax[index,0], color = theme[0])\n",
    "    sns.boxplot(df[i], ax = ax[index,1], color = theme[2])\n",
    "    \n",
    "fig.tight_layout()\n",
    "fig.subplots_adjust(top=0.95)\n",
    "plt.suptitle(\"Visualizing continuous numerical columns\",fontsize=30)"
   ]
  },
  {
   "cell_type": "markdown",
   "id": "77114503",
   "metadata": {},
   "source": [
    "> <p> These 3 variables are clearly right skewed <br>\n",
    "> There are a lot of outliers for these 3 variables </p>\n",
    "> <p> => It's necessary to normalize the data and deal with the outliers </p>"
   ]
  },
  {
   "cell_type": "markdown",
   "id": "bd7d7d95",
   "metadata": {},
   "source": [
    "### Bivariate Analysis"
   ]
  },
  {
   "cell_type": "code",
   "execution_count": 17,
   "id": "f28aeff5",
   "metadata": {},
   "outputs": [
    {
     "data": {
      "text/plain": [
       "Text(0.5, 1.08, 'Loan Status')"
      ]
     },
     "execution_count": 17,
     "metadata": {},
     "output_type": "execute_result"
    },
    {
     "data": {
      "image/png": "[encoded data removed]",
      "text/plain": [
       "<Figure size 864x864 with 9 Axes>"
      ]
     },
     "metadata": {
      "needs_background": "light"
     },
     "output_type": "display_data"
    }
   ],
   "source": [
    "ax = sns.pairplot(df.loc[:,['ApplicantIncome','CoapplicantIncome','LoanAmount','Loan_Status']], hue = 'Loan_Status', diag_kind = 'kde', kind = 'scatter', palette = 'PuBu', corner = True)\n",
    "ax.fig.set_size_inches(12,12)\n",
    "ax.fig.suptitle('Loan Status', y=1.08, size = 26, weight='bold')"
   ]
  },
  {
   "cell_type": "markdown",
   "id": "4d92b9fa",
   "metadata": {},
   "source": [
    "<a id=\"2.5\"></a>\n",
    "<div style=\"color:white;\n",
    "           display:fill;\n",
    "           border-radius:30px;\n",
    "           background-color:#A0E4CB;\n",
    "           font-size:200%;\n",
    "           font-family:Verdana;\n",
    "           letter-spacing:0.5px\">\n",
    "\n",
    "<p style=\"padding: 5px;\n",
    "          text-align:center;\n",
    "          color:Black;\">\n",
    "          2.5. Normalize Data\n",
    "</p>\n",
    "</div>"
   ]
  },
  {
   "cell_type": "code",
   "execution_count": 18,
   "id": "a0bc1f8f",
   "metadata": {},
   "outputs": [
    {
     "data": {
      "text/plain": [
       "<AxesSubplot:xlabel='Loan_Amount_Log'>"
      ]
     },
     "execution_count": 18,
     "metadata": {},
     "output_type": "execute_result"
    },
    {
     "data": {
      "image/png": "[encoded data removed]",
      "text/plain": [
       "<Figure size 720x360 with 2 Axes>"
      ]
     },
     "metadata": {
      "needs_background": "light"
     },
     "output_type": "display_data"
    }
   ],
   "source": [
    "df['Loan_Amount_Log'] = np.log(df['LoanAmount'])\n",
    "\n",
    "fig, axes = plt.subplots(2, 1, sharex=True, figsize=(10,5))\n",
    "sns.distplot(x = df['Loan_Amount_Log'], ax = axes[0])\n",
    "sns.boxplot(x = df['Loan_Amount_Log'], ax = axes[1])"
   ]
  },
  {
   "cell_type": "code",
   "execution_count": 19,
   "id": "37f7942b",
   "metadata": {},
   "outputs": [
    {
     "data": {
      "text/plain": [
       "<AxesSubplot:xlabel='Applicant_Income_Log'>"
      ]
     },
     "execution_count": 19,
     "metadata": {},
     "output_type": "execute_result"
    },
    {
     "data": {
      "image/png": "[encoded data removed]",
      "text/plain": [
       "<Figure size 720x360 with 2 Axes>"
      ]
     },
     "metadata": {
      "needs_background": "light"
     },
     "output_type": "display_data"
    }
   ],
   "source": [
    "df['Applicant_Income_Log'] = np.log(df['ApplicantIncome'])\n",
    "\n",
    "fig, axes = plt.subplots(2, 1, sharex=True, figsize=(10,5))\n",
    "sns.distplot(x = df['Applicant_Income_Log'], ax = axes[0])\n",
    "sns.boxplot(x = df['Applicant_Income_Log'], ax = axes[1])"
   ]
  },
  {
   "cell_type": "code",
   "execution_count": 20,
   "id": "7e5a5168",
   "metadata": {},
   "outputs": [
    {
     "data": {
      "text/plain": [
       "<AxesSubplot:xlabel='Coapplicant_Income_Log'>"
      ]
     },
     "execution_count": 20,
     "metadata": {},
     "output_type": "execute_result"
    },
    {
     "data": {
      "image/png": "[encoded data removed]",
      "text/plain": [
       "<Figure size 720x360 with 2 Axes>"
      ]
     },
     "metadata": {
      "needs_background": "light"
     },
     "output_type": "display_data"
    }
   ],
   "source": [
    "df['Coapplicant_Income_Log'] = np.log(df['CoapplicantIncome'])\n",
    "df['Coapplicant_Income_Log'] = df['Coapplicant_Income_Log'].replace(-np.inf, 0)\n",
    "\n",
    "fig, axes = plt.subplots(2, 1, sharex=True, figsize=(10,5))\n",
    "sns.distplot(x = df['Coapplicant_Income_Log'], ax = axes[0])\n",
    "sns.boxplot(x = df['Coapplicant_Income_Log'], ax = axes[1])"
   ]
  },
  {
   "cell_type": "markdown",
   "id": "c5d69cbd",
   "metadata": {},
   "source": [
    "<a id=\"2.6\"></a>\n",
    "<div style=\"color:white;\n",
    "           display:fill;\n",
    "           border-radius:30px;\n",
    "           background-color:#A0E4CB;\n",
    "           font-size:200%;\n",
    "           font-family:Verdana;\n",
    "           letter-spacing:0.5px\">\n",
    "\n",
    "<p style=\"padding: 5px;\n",
    "          text-align:center;\n",
    "          color:Black;\">\n",
    "          2.6. Handle Outliers\n",
    "</p>\n",
    "</div>"
   ]
  },
  {
   "cell_type": "code",
   "execution_count": 21,
   "id": "bf4a4e99",
   "metadata": {},
   "outputs": [],
   "source": [
    "OldShape = df.shape"
   ]
  },
  {
   "cell_type": "code",
   "execution_count": 22,
   "id": "99e8cd2a",
   "metadata": {},
   "outputs": [],
   "source": [
    "#df = df[df.loc[:,'Total_Income_Log']<9.6]\n",
    "normalized_num_cols = ['Applicant_Income_Log','Coapplicant_Income_Log','Loan_Amount_Log']\n",
    "for i in normalized_num_cols:\n",
    "    Q3,Q1 = np.percentile(df.loc[:,i],[75,25])\n",
    "    IQR = Q3-Q1\n",
    " \n",
    "    upper_bound = Q3+(1.5*IQR)\n",
    "    lower_bound = Q1-(1.5*IQR)\n",
    "    \n",
    "    df = df[(df[i]>lower_bound) & (df[i]<upper_bound)]"
   ]
  },
  {
   "cell_type": "code",
   "execution_count": 23,
   "id": "21614590",
   "metadata": {},
   "outputs": [
    {
     "data": {
      "text/plain": [
       "Text(0.5, 0.98, 'Visualizing continuous numerical columns')"
      ]
     },
     "execution_count": 23,
     "metadata": {},
     "output_type": "execute_result"
    },
    {
     "data": {
      "image/png": "[encoded data removed]",
      "text/plain": [
       "<Figure size 288x72 with 1 Axes>"
      ]
     },
     "metadata": {
      "needs_background": "light"
     },
     "output_type": "display_data"
    },
    {
     "data": {
      "image/png": "[encoded data removed]",
      "text/plain": [
       "<Figure size 1440x1080 with 6 Axes>"
      ]
     },
     "metadata": {
      "needs_background": "light"
     },
     "output_type": "display_data"
    }
   ],
   "source": [
    "theme = ['#2786b5', '#C2D7E8', '#FFBF69', '#FF9F1C']\n",
    "sns.palplot(sns.color_palette(theme))\n",
    "\n",
    "import warnings\n",
    "warnings.filterwarnings('ignore')\n",
    "\n",
    "normalized_num_cols = ['Applicant_Income_Log','Coapplicant_Income_Log','Loan_Amount_Log']\n",
    "\n",
    "fig,ax = plt.subplots(len(normalized_num_cols), 2, figsize=(20,15))\n",
    "for index,i in enumerate(normalized_num_cols):\n",
    "    sns.distplot(df[i], ax = ax[index,0], color = theme[0])\n",
    "    sns.boxplot(df[i], ax = ax[index,1], color = theme[2])\n",
    "    \n",
    "fig.tight_layout()\n",
    "fig.subplots_adjust(top=0.95)\n",
    "plt.suptitle(\"Visualizing continuous numerical columns\",fontsize=30)"
   ]
  },
  {
   "cell_type": "code",
   "execution_count": 24,
   "id": "ee3422a3",
   "metadata": {},
   "outputs": [
    {
     "name": "stdout",
     "output_type": "stream",
     "text": [
      "Dataframe's shape before removing outliers : (601, 16)\n",
      "Dataframe's shape after removing outliers : (545, 16)\n"
     ]
    }
   ],
   "source": [
    "NewShape = df.shape\n",
    "\n",
    "print(\"Dataframe's shape before removing outliers :\", OldShape)\n",
    "print(\"Dataframe's shape after removing outliers :\", NewShape)"
   ]
  },
  {
   "cell_type": "markdown",
   "id": "16774417",
   "metadata": {},
   "source": [
    "> Now that we have removed most of the outliers in numerical columns, let's move on to the next step"
   ]
  },
  {
   "cell_type": "markdown",
   "id": "a431a0a8",
   "metadata": {},
   "source": [
    "<a id=\"2.7\"></a>\n",
    "<div style=\"color:white;\n",
    "           display:fill;\n",
    "           border-radius:30px;\n",
    "           background-color:#A0E4CB;\n",
    "           font-size:200%;\n",
    "           font-family:Verdana;\n",
    "           letter-spacing:0.5px\">\n",
    "\n",
    "<p style=\"padding: 5px;\n",
    "          text-align:center;\n",
    "          color:Black;\">\n",
    "          2.7. Correlation Heatmap\n",
    "</p>\n",
    "</div>"
   ]
  },
  {
   "cell_type": "code",
   "execution_count": 25,
   "id": "4282e84c",
   "metadata": {},
   "outputs": [
    {
     "data": {
      "text/plain": [
       "Text(0.5, 1.0, 'Correlation of Features')"
      ]
     },
     "execution_count": 25,
     "metadata": {},
     "output_type": "execute_result"
    },
    {
     "data": {
      "image/png": "[encoded data removed]",
      "text/plain": [
       "<Figure size 432x288 with 2 Axes>"
      ]
     },
     "metadata": {
      "needs_background": "light"
     },
     "output_type": "display_data"
    }
   ],
   "source": [
    "corr = df[['Applicant_Income_Log','Coapplicant_Income_Log','Loan_Amount_Log','Loan_Amount_Term']].corr()\n",
    "heatmap = sns.heatmap(corr, annot = True, cmap = 'Blues')\n",
    "\n",
    "heatmap.set_title('Correlation of Features', fontdict= {'fontsize': 18}, pad = 16)"
   ]
  },
  {
   "cell_type": "markdown",
   "id": "c5268377",
   "metadata": {},
   "source": [
    "<a id=\"3\"></a>\n",
    "<div style=\"color:white;\n",
    "           display:fill;\n",
    "           border-radius:30px;\n",
    "           background-color:#59C1BD;\n",
    "           font-size:250%;\n",
    "           font-family:Verdana;\n",
    "           letter-spacing:0.5px\">\n",
    "\n",
    "<p style=\"padding: 10px;\n",
    "          text-align:center;\n",
    "          color:white;\">\n",
    "          3. PREDICTION MODEL\n",
    "</p>\n",
    "</div>"
   ]
  },
  {
   "cell_type": "markdown",
   "id": "b31e6a76",
   "metadata": {},
   "source": [
    "[Return Table of Contents](#Table)"
   ]
  },
  {
   "cell_type": "code",
   "execution_count": 26,
   "id": "f9ecf8f8",
   "metadata": {
    "scrolled": true
   },
   "outputs": [
    {
     "data": {
      "text/html": [
       "<div>\n",
       "<style scoped>\n",
       "    .dataframe tbody tr th:only-of-type {\n",
       "        vertical-align: middle;\n",
       "    }\n",
       "\n",
       "    .dataframe tbody tr th {\n",
       "        vertical-align: top;\n",
       "    }\n",
       "\n",
       "    .dataframe thead th {\n",
       "        text-align: right;\n",
       "    }\n",
       "</style>\n",
       "<table border=\"1\" class=\"dataframe\">\n",
       "  <thead>\n",
       "    <tr style=\"text-align: right;\">\n",
       "      <th></th>\n",
       "      <th>Loan_ID</th>\n",
       "      <th>Gender</th>\n",
       "      <th>Married</th>\n",
       "      <th>Dependents</th>\n",
       "      <th>Education</th>\n",
       "      <th>Self_Employed</th>\n",
       "      <th>ApplicantIncome</th>\n",
       "      <th>CoapplicantIncome</th>\n",
       "      <th>LoanAmount</th>\n",
       "      <th>Loan_Amount_Term</th>\n",
       "      <th>Credit_History</th>\n",
       "      <th>Property_Area</th>\n",
       "      <th>Loan_Status</th>\n",
       "      <th>Loan_Amount_Log</th>\n",
       "      <th>Applicant_Income_Log</th>\n",
       "      <th>Coapplicant_Income_Log</th>\n",
       "    </tr>\n",
       "  </thead>\n",
       "  <tbody>\n",
       "    <tr>\n",
       "      <th>0</th>\n",
       "      <td>LP001002</td>\n",
       "      <td>Male</td>\n",
       "      <td>No</td>\n",
       "      <td>0</td>\n",
       "      <td>Graduate</td>\n",
       "      <td>No</td>\n",
       "      <td>5849.0</td>\n",
       "      <td>0.0</td>\n",
       "      <td>145.869416</td>\n",
       "      <td>360</td>\n",
       "      <td>1.0</td>\n",
       "      <td>Urban</td>\n",
       "      <td>Y</td>\n",
       "      <td>4.982712</td>\n",
       "      <td>8.674026</td>\n",
       "      <td>0.000000</td>\n",
       "    </tr>\n",
       "    <tr>\n",
       "      <th>1</th>\n",
       "      <td>LP001003</td>\n",
       "      <td>Male</td>\n",
       "      <td>Yes</td>\n",
       "      <td>1</td>\n",
       "      <td>Graduate</td>\n",
       "      <td>No</td>\n",
       "      <td>4583.0</td>\n",
       "      <td>1508.0</td>\n",
       "      <td>128.000000</td>\n",
       "      <td>360</td>\n",
       "      <td>1.0</td>\n",
       "      <td>Rural</td>\n",
       "      <td>N</td>\n",
       "      <td>4.852030</td>\n",
       "      <td>8.430109</td>\n",
       "      <td>7.318540</td>\n",
       "    </tr>\n",
       "    <tr>\n",
       "      <th>2</th>\n",
       "      <td>LP001005</td>\n",
       "      <td>Male</td>\n",
       "      <td>Yes</td>\n",
       "      <td>0</td>\n",
       "      <td>Graduate</td>\n",
       "      <td>Yes</td>\n",
       "      <td>3000.0</td>\n",
       "      <td>0.0</td>\n",
       "      <td>66.000000</td>\n",
       "      <td>360</td>\n",
       "      <td>1.0</td>\n",
       "      <td>Urban</td>\n",
       "      <td>Y</td>\n",
       "      <td>4.189655</td>\n",
       "      <td>8.006368</td>\n",
       "      <td>0.000000</td>\n",
       "    </tr>\n",
       "    <tr>\n",
       "      <th>3</th>\n",
       "      <td>LP001006</td>\n",
       "      <td>Male</td>\n",
       "      <td>Yes</td>\n",
       "      <td>0</td>\n",
       "      <td>Not Graduate</td>\n",
       "      <td>No</td>\n",
       "      <td>2583.0</td>\n",
       "      <td>2358.0</td>\n",
       "      <td>120.000000</td>\n",
       "      <td>360</td>\n",
       "      <td>1.0</td>\n",
       "      <td>Urban</td>\n",
       "      <td>Y</td>\n",
       "      <td>4.787492</td>\n",
       "      <td>7.856707</td>\n",
       "      <td>7.765569</td>\n",
       "    </tr>\n",
       "    <tr>\n",
       "      <th>4</th>\n",
       "      <td>LP001008</td>\n",
       "      <td>Male</td>\n",
       "      <td>No</td>\n",
       "      <td>0</td>\n",
       "      <td>Graduate</td>\n",
       "      <td>No</td>\n",
       "      <td>6000.0</td>\n",
       "      <td>0.0</td>\n",
       "      <td>141.000000</td>\n",
       "      <td>360</td>\n",
       "      <td>1.0</td>\n",
       "      <td>Urban</td>\n",
       "      <td>Y</td>\n",
       "      <td>4.948760</td>\n",
       "      <td>8.699515</td>\n",
       "      <td>0.000000</td>\n",
       "    </tr>\n",
       "    <tr>\n",
       "      <th>5</th>\n",
       "      <td>LP001011</td>\n",
       "      <td>Male</td>\n",
       "      <td>Yes</td>\n",
       "      <td>2</td>\n",
       "      <td>Graduate</td>\n",
       "      <td>Yes</td>\n",
       "      <td>5417.0</td>\n",
       "      <td>4196.0</td>\n",
       "      <td>267.000000</td>\n",
       "      <td>360</td>\n",
       "      <td>1.0</td>\n",
       "      <td>Urban</td>\n",
       "      <td>Y</td>\n",
       "      <td>5.587249</td>\n",
       "      <td>8.597297</td>\n",
       "      <td>8.341887</td>\n",
       "    </tr>\n",
       "    <tr>\n",
       "      <th>6</th>\n",
       "      <td>LP001013</td>\n",
       "      <td>Male</td>\n",
       "      <td>Yes</td>\n",
       "      <td>0</td>\n",
       "      <td>Not Graduate</td>\n",
       "      <td>No</td>\n",
       "      <td>2333.0</td>\n",
       "      <td>1516.0</td>\n",
       "      <td>95.000000</td>\n",
       "      <td>360</td>\n",
       "      <td>1.0</td>\n",
       "      <td>Urban</td>\n",
       "      <td>Y</td>\n",
       "      <td>4.553877</td>\n",
       "      <td>7.754910</td>\n",
       "      <td>7.323831</td>\n",
       "    </tr>\n",
       "    <tr>\n",
       "      <th>7</th>\n",
       "      <td>LP001014</td>\n",
       "      <td>Male</td>\n",
       "      <td>Yes</td>\n",
       "      <td>3+</td>\n",
       "      <td>Graduate</td>\n",
       "      <td>No</td>\n",
       "      <td>3036.0</td>\n",
       "      <td>2504.0</td>\n",
       "      <td>158.000000</td>\n",
       "      <td>360</td>\n",
       "      <td>0.0</td>\n",
       "      <td>Semiurban</td>\n",
       "      <td>N</td>\n",
       "      <td>5.062595</td>\n",
       "      <td>8.018296</td>\n",
       "      <td>7.825645</td>\n",
       "    </tr>\n",
       "    <tr>\n",
       "      <th>8</th>\n",
       "      <td>LP001018</td>\n",
       "      <td>Male</td>\n",
       "      <td>Yes</td>\n",
       "      <td>2</td>\n",
       "      <td>Graduate</td>\n",
       "      <td>No</td>\n",
       "      <td>4006.0</td>\n",
       "      <td>1526.0</td>\n",
       "      <td>168.000000</td>\n",
       "      <td>360</td>\n",
       "      <td>1.0</td>\n",
       "      <td>Urban</td>\n",
       "      <td>Y</td>\n",
       "      <td>5.123964</td>\n",
       "      <td>8.295549</td>\n",
       "      <td>7.330405</td>\n",
       "    </tr>\n",
       "    <tr>\n",
       "      <th>10</th>\n",
       "      <td>LP001024</td>\n",
       "      <td>Male</td>\n",
       "      <td>Yes</td>\n",
       "      <td>2</td>\n",
       "      <td>Graduate</td>\n",
       "      <td>No</td>\n",
       "      <td>3200.0</td>\n",
       "      <td>700.0</td>\n",
       "      <td>70.000000</td>\n",
       "      <td>360</td>\n",
       "      <td>1.0</td>\n",
       "      <td>Urban</td>\n",
       "      <td>Y</td>\n",
       "      <td>4.248495</td>\n",
       "      <td>8.070906</td>\n",
       "      <td>6.551080</td>\n",
       "    </tr>\n",
       "  </tbody>\n",
       "</table>\n",
       "</div>"
      ],
      "text/plain": [
       "     Loan_ID Gender Married Dependents     Education Self_Employed  \\\n",
       "0   LP001002   Male      No          0      Graduate            No   \n",
       "1   LP001003   Male     Yes          1      Graduate            No   \n",
       "2   LP001005   Male     Yes          0      Graduate           Yes   \n",
       "3   LP001006   Male     Yes          0  Not Graduate            No   \n",
       "4   LP001008   Male      No          0      Graduate            No   \n",
       "5   LP001011   Male     Yes          2      Graduate           Yes   \n",
       "6   LP001013   Male     Yes          0  Not Graduate            No   \n",
       "7   LP001014   Male     Yes         3+      Graduate            No   \n",
       "8   LP001018   Male     Yes          2      Graduate            No   \n",
       "10  LP001024   Male     Yes          2      Graduate            No   \n",
       "\n",
       "    ApplicantIncome  CoapplicantIncome  LoanAmount  Loan_Amount_Term  \\\n",
       "0            5849.0                0.0  145.869416               360   \n",
       "1            4583.0             1508.0  128.000000               360   \n",
       "2            3000.0                0.0   66.000000               360   \n",
       "3            2583.0             2358.0  120.000000               360   \n",
       "4            6000.0                0.0  141.000000               360   \n",
       "5            5417.0             4196.0  267.000000               360   \n",
       "6            2333.0             1516.0   95.000000               360   \n",
       "7            3036.0             2504.0  158.000000               360   \n",
       "8            4006.0             1526.0  168.000000               360   \n",
       "10           3200.0              700.0   70.000000               360   \n",
       "\n",
       "    Credit_History Property_Area Loan_Status  Loan_Amount_Log  \\\n",
       "0              1.0         Urban           Y         4.982712   \n",
       "1              1.0         Rural           N         4.852030   \n",
       "2              1.0         Urban           Y         4.189655   \n",
       "3              1.0         Urban           Y         4.787492   \n",
       "4              1.0         Urban           Y         4.948760   \n",
       "5              1.0         Urban           Y         5.587249   \n",
       "6              1.0         Urban           Y         4.553877   \n",
       "7              0.0     Semiurban           N         5.062595   \n",
       "8              1.0         Urban           Y         5.123964   \n",
       "10             1.0         Urban           Y         4.248495   \n",
       "\n",
       "    Applicant_Income_Log  Coapplicant_Income_Log  \n",
       "0               8.674026                0.000000  \n",
       "1               8.430109                7.318540  \n",
       "2               8.006368                0.000000  \n",
       "3               7.856707                7.765569  \n",
       "4               8.699515                0.000000  \n",
       "5               8.597297                8.341887  \n",
       "6               7.754910                7.323831  \n",
       "7               8.018296                7.825645  \n",
       "8               8.295549                7.330405  \n",
       "10              8.070906                6.551080  "
      ]
     },
     "execution_count": 26,
     "metadata": {},
     "output_type": "execute_result"
    }
   ],
   "source": [
    "df.head(10)"
   ]
  },
  {
   "cell_type": "markdown",
   "id": "09286f1e",
   "metadata": {},
   "source": [
    "<a id=\"3.1\"></a>\n",
    "<div style=\"color:white;\n",
    "           display:fill;\n",
    "           border-radius:30px;\n",
    "           background-color:#A0E4CB;\n",
    "           font-size:200%;\n",
    "           font-family:Verdana;\n",
    "           letter-spacing:0.5px\">\n",
    "\n",
    "<p style=\"padding: 5px;\n",
    "          text-align:center;\n",
    "          color:Black;\">\n",
    "          3.1. Prepare the data for building models\n",
    "</p>\n",
    "</div>"
   ]
  },
  {
   "cell_type": "code",
   "execution_count": 27,
   "id": "57810ea0",
   "metadata": {},
   "outputs": [],
   "source": [
    "X = df.loc[:,['Gender','Married','Dependents','Education','Self_Employed','Loan_Amount_Term','Credit_History',\n",
    "              'Property_Area','Loan_Amount_Log','Applicant_Income_Log','Coapplicant_Income_Log']]\n",
    "\n",
    "y = df.loc[:,'Loan_Status']"
   ]
  },
  {
   "cell_type": "markdown",
   "id": "5cccdf34",
   "metadata": {},
   "source": [
    "### Encode the categorical data"
   ]
  },
  {
   "cell_type": "code",
   "execution_count": 28,
   "id": "fe04d909",
   "metadata": {},
   "outputs": [],
   "source": [
    "from sklearn.preprocessing import LabelEncoder\n",
    "LabelEncoder_X = LabelEncoder()\n",
    "LabelEncoder_y = LabelEncoder()"
   ]
  },
  {
   "cell_type": "code",
   "execution_count": 29,
   "id": "9d0ace68",
   "metadata": {},
   "outputs": [],
   "source": [
    "y = LabelEncoder_y.fit_transform(y)"
   ]
  },
  {
   "cell_type": "code",
   "execution_count": 30,
   "id": "e78143a3",
   "metadata": {},
   "outputs": [
    {
     "data": {
      "text/plain": [
       "array([1, 0, 1, 1, 1, 1, 1, 0, 1, 1, 1, 1, 0, 1, 1, 0, 0, 0, 1, 0, 0, 1,\n",
       "       1, 1, 1, 0, 0, 1, 0, 1, 0, 1, 1, 1, 0, 1, 1, 1, 1, 1, 0, 1, 1, 1,\n",
       "       0, 0, 0, 1, 1, 0, 1, 1, 1, 1, 0, 0, 0, 0, 0, 1, 1, 0, 1, 1, 1, 0,\n",
       "       1, 0, 0, 0, 1, 1, 1, 0, 0, 1, 1, 1, 1, 1, 1, 1, 1, 1, 1, 1, 1, 1,\n",
       "       1, 1, 1, 1, 1, 1, 0, 0, 1, 1, 1, 0, 1, 1, 1, 1, 1, 0, 1, 1, 1, 1,\n",
       "       1, 1, 1, 0, 0, 1, 1, 1, 0, 0, 1, 0, 0, 0, 1, 1, 1, 1, 1, 1, 0, 1,\n",
       "       0, 1, 0, 0, 1, 1, 1, 1, 1, 1, 0, 0, 1, 1, 1, 0, 1, 0, 1, 1, 0, 1,\n",
       "       0, 1, 1, 1, 0, 0, 0, 1, 1, 0, 1, 1, 0, 0, 1, 1, 0, 1, 1, 1, 0, 1,\n",
       "       1, 0, 1, 1, 1, 1, 1, 1, 0, 0, 0, 1, 1, 1, 1, 1, 0, 1, 0, 1, 1, 1,\n",
       "       1, 0, 0, 1, 1, 1, 1, 1, 1, 1, 1, 1, 1, 1, 0, 1, 1, 1, 0, 1, 1, 1,\n",
       "       1, 0, 0, 1, 1, 0, 1, 0, 0, 0, 0, 1, 0, 1, 1, 1, 1, 1, 0, 1, 1, 1,\n",
       "       1, 1, 1, 1, 1, 1, 0, 1, 1, 1, 1, 0, 1, 1, 1, 1, 0, 1, 0, 1, 1, 1,\n",
       "       1, 0, 0, 0, 1, 1, 1, 1, 0, 1, 0, 1, 1, 1, 1, 1, 0, 1, 1, 1, 1, 0,\n",
       "       1, 1, 1, 1, 1, 1, 1, 0, 1, 1, 1, 1, 1, 1, 1, 0, 1, 0, 1, 1, 1, 1,\n",
       "       0, 1, 1, 1, 1, 0, 1, 0, 1, 1, 1, 0, 0, 1, 0, 1, 1, 1, 1, 0, 0, 0,\n",
       "       1, 1, 1, 0, 1, 1, 1, 1, 0, 1, 1, 1, 1, 1, 0, 1, 1, 0, 1, 1, 1, 1,\n",
       "       1, 1, 1, 1, 0, 1, 1, 0, 0, 1, 1, 0, 1, 1, 1, 0, 0, 0, 1, 0, 1, 0,\n",
       "       0, 1, 1, 1, 0, 1, 0, 1, 1, 0, 1, 1, 1, 1, 0, 1, 1, 1, 1, 0, 1, 1,\n",
       "       1, 1, 1, 1, 1, 0, 0, 0, 0, 1, 0, 1, 1, 1, 1, 0, 1, 0, 1, 1, 1, 0,\n",
       "       1, 0, 0, 1, 0, 1, 1, 1, 1, 0, 0, 1, 1, 1, 1, 1, 1, 0, 1, 0, 1, 1,\n",
       "       1, 0, 1, 1, 1, 1, 0, 1, 1, 0, 1, 1, 0, 1, 0, 1, 1, 0, 0, 1, 1, 0,\n",
       "       0, 0, 1, 1, 0, 1, 1, 1, 1, 1, 1, 0, 0, 1, 1, 0, 1, 1, 0, 1, 1, 1,\n",
       "       1, 0, 1, 0, 1, 0, 1, 1, 0, 0, 1, 1, 1, 1, 1, 1, 1, 0, 1, 1, 0, 0,\n",
       "       1, 0, 0, 0, 1, 0, 1, 1, 1, 1, 0, 0, 0, 0, 1, 1, 1, 0, 1, 0, 1, 1,\n",
       "       1, 1, 0, 0, 1, 1, 1, 1, 1, 0, 1, 1, 1, 1, 1, 1, 0])"
      ]
     },
     "execution_count": 30,
     "metadata": {},
     "output_type": "execute_result"
    }
   ],
   "source": [
    "y"
   ]
  },
  {
   "cell_type": "code",
   "execution_count": 31,
   "id": "c1b0c3b2",
   "metadata": {},
   "outputs": [],
   "source": [
    "for i in (0,1,2,3,4,7):\n",
    "    X.iloc[:,i] = LabelEncoder_X.fit_transform(X.iloc[:,i])"
   ]
  },
  {
   "cell_type": "code",
   "execution_count": 32,
   "id": "7a8285a6",
   "metadata": {
    "scrolled": true
   },
   "outputs": [
    {
     "data": {
      "text/html": [
       "<div>\n",
       "<style scoped>\n",
       "    .dataframe tbody tr th:only-of-type {\n",
       "        vertical-align: middle;\n",
       "    }\n",
       "\n",
       "    .dataframe tbody tr th {\n",
       "        vertical-align: top;\n",
       "    }\n",
       "\n",
       "    .dataframe thead th {\n",
       "        text-align: right;\n",
       "    }\n",
       "</style>\n",
       "<table border=\"1\" class=\"dataframe\">\n",
       "  <thead>\n",
       "    <tr style=\"text-align: right;\">\n",
       "      <th></th>\n",
       "      <th>Gender</th>\n",
       "      <th>Married</th>\n",
       "      <th>Dependents</th>\n",
       "      <th>Education</th>\n",
       "      <th>Self_Employed</th>\n",
       "      <th>Loan_Amount_Term</th>\n",
       "      <th>Credit_History</th>\n",
       "      <th>Property_Area</th>\n",
       "      <th>Loan_Amount_Log</th>\n",
       "      <th>Applicant_Income_Log</th>\n",
       "      <th>Coapplicant_Income_Log</th>\n",
       "    </tr>\n",
       "  </thead>\n",
       "  <tbody>\n",
       "    <tr>\n",
       "      <th>0</th>\n",
       "      <td>1</td>\n",
       "      <td>0</td>\n",
       "      <td>0</td>\n",
       "      <td>0</td>\n",
       "      <td>0</td>\n",
       "      <td>360</td>\n",
       "      <td>1.0</td>\n",
       "      <td>2</td>\n",
       "      <td>4.982712</td>\n",
       "      <td>8.674026</td>\n",
       "      <td>0.000000</td>\n",
       "    </tr>\n",
       "    <tr>\n",
       "      <th>1</th>\n",
       "      <td>1</td>\n",
       "      <td>1</td>\n",
       "      <td>1</td>\n",
       "      <td>0</td>\n",
       "      <td>0</td>\n",
       "      <td>360</td>\n",
       "      <td>1.0</td>\n",
       "      <td>0</td>\n",
       "      <td>4.852030</td>\n",
       "      <td>8.430109</td>\n",
       "      <td>7.318540</td>\n",
       "    </tr>\n",
       "    <tr>\n",
       "      <th>2</th>\n",
       "      <td>1</td>\n",
       "      <td>1</td>\n",
       "      <td>0</td>\n",
       "      <td>0</td>\n",
       "      <td>1</td>\n",
       "      <td>360</td>\n",
       "      <td>1.0</td>\n",
       "      <td>2</td>\n",
       "      <td>4.189655</td>\n",
       "      <td>8.006368</td>\n",
       "      <td>0.000000</td>\n",
       "    </tr>\n",
       "    <tr>\n",
       "      <th>3</th>\n",
       "      <td>1</td>\n",
       "      <td>1</td>\n",
       "      <td>0</td>\n",
       "      <td>1</td>\n",
       "      <td>0</td>\n",
       "      <td>360</td>\n",
       "      <td>1.0</td>\n",
       "      <td>2</td>\n",
       "      <td>4.787492</td>\n",
       "      <td>7.856707</td>\n",
       "      <td>7.765569</td>\n",
       "    </tr>\n",
       "    <tr>\n",
       "      <th>4</th>\n",
       "      <td>1</td>\n",
       "      <td>0</td>\n",
       "      <td>0</td>\n",
       "      <td>0</td>\n",
       "      <td>0</td>\n",
       "      <td>360</td>\n",
       "      <td>1.0</td>\n",
       "      <td>2</td>\n",
       "      <td>4.948760</td>\n",
       "      <td>8.699515</td>\n",
       "      <td>0.000000</td>\n",
       "    </tr>\n",
       "    <tr>\n",
       "      <th>5</th>\n",
       "      <td>1</td>\n",
       "      <td>1</td>\n",
       "      <td>2</td>\n",
       "      <td>0</td>\n",
       "      <td>1</td>\n",
       "      <td>360</td>\n",
       "      <td>1.0</td>\n",
       "      <td>2</td>\n",
       "      <td>5.587249</td>\n",
       "      <td>8.597297</td>\n",
       "      <td>8.341887</td>\n",
       "    </tr>\n",
       "    <tr>\n",
       "      <th>6</th>\n",
       "      <td>1</td>\n",
       "      <td>1</td>\n",
       "      <td>0</td>\n",
       "      <td>1</td>\n",
       "      <td>0</td>\n",
       "      <td>360</td>\n",
       "      <td>1.0</td>\n",
       "      <td>2</td>\n",
       "      <td>4.553877</td>\n",
       "      <td>7.754910</td>\n",
       "      <td>7.323831</td>\n",
       "    </tr>\n",
       "    <tr>\n",
       "      <th>7</th>\n",
       "      <td>1</td>\n",
       "      <td>1</td>\n",
       "      <td>3</td>\n",
       "      <td>0</td>\n",
       "      <td>0</td>\n",
       "      <td>360</td>\n",
       "      <td>0.0</td>\n",
       "      <td>1</td>\n",
       "      <td>5.062595</td>\n",
       "      <td>8.018296</td>\n",
       "      <td>7.825645</td>\n",
       "    </tr>\n",
       "    <tr>\n",
       "      <th>8</th>\n",
       "      <td>1</td>\n",
       "      <td>1</td>\n",
       "      <td>2</td>\n",
       "      <td>0</td>\n",
       "      <td>0</td>\n",
       "      <td>360</td>\n",
       "      <td>1.0</td>\n",
       "      <td>2</td>\n",
       "      <td>5.123964</td>\n",
       "      <td>8.295549</td>\n",
       "      <td>7.330405</td>\n",
       "    </tr>\n",
       "    <tr>\n",
       "      <th>10</th>\n",
       "      <td>1</td>\n",
       "      <td>1</td>\n",
       "      <td>2</td>\n",
       "      <td>0</td>\n",
       "      <td>0</td>\n",
       "      <td>360</td>\n",
       "      <td>1.0</td>\n",
       "      <td>2</td>\n",
       "      <td>4.248495</td>\n",
       "      <td>8.070906</td>\n",
       "      <td>6.551080</td>\n",
       "    </tr>\n",
       "    <tr>\n",
       "      <th>11</th>\n",
       "      <td>1</td>\n",
       "      <td>1</td>\n",
       "      <td>2</td>\n",
       "      <td>0</td>\n",
       "      <td>0</td>\n",
       "      <td>360</td>\n",
       "      <td>1.0</td>\n",
       "      <td>2</td>\n",
       "      <td>4.691348</td>\n",
       "      <td>7.824046</td>\n",
       "      <td>7.517521</td>\n",
       "    </tr>\n",
       "  </tbody>\n",
       "</table>\n",
       "</div>"
      ],
      "text/plain": [
       "    Gender  Married  Dependents  Education  Self_Employed  Loan_Amount_Term  \\\n",
       "0        1        0           0          0              0               360   \n",
       "1        1        1           1          0              0               360   \n",
       "2        1        1           0          0              1               360   \n",
       "3        1        1           0          1              0               360   \n",
       "4        1        0           0          0              0               360   \n",
       "5        1        1           2          0              1               360   \n",
       "6        1        1           0          1              0               360   \n",
       "7        1        1           3          0              0               360   \n",
       "8        1        1           2          0              0               360   \n",
       "10       1        1           2          0              0               360   \n",
       "11       1        1           2          0              0               360   \n",
       "\n",
       "    Credit_History  Property_Area  Loan_Amount_Log  Applicant_Income_Log  \\\n",
       "0              1.0              2         4.982712              8.674026   \n",
       "1              1.0              0         4.852030              8.430109   \n",
       "2              1.0              2         4.189655              8.006368   \n",
       "3              1.0              2         4.787492              7.856707   \n",
       "4              1.0              2         4.948760              8.699515   \n",
       "5              1.0              2         5.587249              8.597297   \n",
       "6              1.0              2         4.553877              7.754910   \n",
       "7              0.0              1         5.062595              8.018296   \n",
       "8              1.0              2         5.123964              8.295549   \n",
       "10             1.0              2         4.248495              8.070906   \n",
       "11             1.0              2         4.691348              7.824046   \n",
       "\n",
       "    Coapplicant_Income_Log  \n",
       "0                 0.000000  \n",
       "1                 7.318540  \n",
       "2                 0.000000  \n",
       "3                 7.765569  \n",
       "4                 0.000000  \n",
       "5                 8.341887  \n",
       "6                 7.323831  \n",
       "7                 7.825645  \n",
       "8                 7.330405  \n",
       "10                6.551080  \n",
       "11                7.517521  "
      ]
     },
     "execution_count": 32,
     "metadata": {},
     "output_type": "execute_result"
    }
   ],
   "source": [
    "X.head(11)"
   ]
  },
  {
   "cell_type": "markdown",
   "id": "f0833519",
   "metadata": {},
   "source": [
    "### Split the dataset into train and test set"
   ]
  },
  {
   "cell_type": "code",
   "execution_count": 33,
   "id": "c85526a8",
   "metadata": {},
   "outputs": [],
   "source": [
    "from sklearn.model_selection import train_test_split\n",
    "X_train, X_test, y_train, y_test = train_test_split(X, y, test_size=0.2, random_state=0)"
   ]
  },
  {
   "cell_type": "markdown",
   "id": "6da3b571",
   "metadata": {},
   "source": [
    "<a id=\"3.2\"></a>\n",
    "<div style=\"color:white;\n",
    "           display:fill;\n",
    "           border-radius:30px;\n",
    "           background-color:#A0E4CB;\n",
    "           font-size:200%;\n",
    "           font-family:Verdana;\n",
    "           letter-spacing:0.5px\">\n",
    "\n",
    "<p style=\"padding: 5px;\n",
    "          text-align:center;\n",
    "          color:Black;\">\n",
    "          3.2. Build the models\n",
    "</p>\n",
    "</div>"
   ]
  },
  {
   "cell_type": "code",
   "execution_count": 34,
   "id": "a8002364",
   "metadata": {},
   "outputs": [],
   "source": [
    "#score\n",
    "from sklearn.metrics import precision_score, accuracy_score, mean_absolute_error, mean_squared_error\n",
    "\n",
    "#models\n",
    "from sklearn.linear_model import LogisticRegression, RidgeClassifier, SGDClassifier, Perceptron, PassiveAggressiveClassifier\n",
    "from sklearn.svm import SVC, NuSVC\n",
    "from sklearn.tree import DecisionTreeClassifier\n",
    "from sklearn.naive_bayes import GaussianNB, BernoulliNB\n",
    "from sklearn.neighbors import NearestCentroid,KNeighborsClassifier\n",
    "from sklearn.ensemble import RandomForestClassifier, AdaBoostClassifier,GradientBoostingClassifier\n",
    "from xgboost import XGBClassifier"
   ]
  },
  {
   "cell_type": "code",
   "execution_count": 35,
   "id": "c9b93aea",
   "metadata": {},
   "outputs": [],
   "source": [
    "#finding the best models with base parameters\n",
    "models = [\n",
    "    ('Logistic Regression', LogisticRegression(max_iter=1000)),\n",
    "    ('Ridge', RidgeClassifier()),\n",
    "    ('SGD Classifier', SGDClassifier(max_iter=1000, tol=1e-3)),\n",
    "    ('Support Vector Classifier', SVC()),\n",
    "    ('NuSVC', NuSVC()),\n",
    "    ('Decision Tree', DecisionTreeClassifier()),\n",
    "    ('Gaussian NB', GaussianNB()),\n",
    "    ('Bernoulli NB', BernoulliNB()),\n",
    "    ('Perc', Perceptron()),\n",
    "    ('Nearest Centroid', NearestCentroid()),\n",
    "    ('Random Forest Classifier', RandomForestClassifier()),\n",
    "    ('Ada Boost Classifier', AdaBoostClassifier()),\n",
    "    ('XGB Classifier', XGBClassifier(verbosity = 0)),\n",
    "    ('Passive Aggressive', PassiveAggressiveClassifier())\n",
    "]\n",
    "\n",
    "results = dict()\n",
    "for name, model in models:\n",
    "    model.fit(X_train, y_train)\n",
    "    pred = model.predict(X_test)\n",
    "    \n",
    "    score = accuracy_score(y_test, pred)    \n",
    "    mae = mean_absolute_error(y_test, pred)\n",
    "    mse = mean_squared_error(y_test, pred)\n",
    "    rmse = np.sqrt(mean_squared_error(y_test, pred))\n",
    "    precision = precision_score(y_test, pred) \n",
    "    results[name] = [score, precision, mae, mse] "
   ]
  },
  {
   "cell_type": "code",
   "execution_count": 36,
   "id": "9998f09b",
   "metadata": {},
   "outputs": [],
   "source": [
    "#storing the results into dataframe\n",
    "df_results = pd.DataFrame(results)\n",
    "df_results = df_results.transpose()\n",
    "df_results = df_results.rename(columns = {0:'Score', 1:'Precision', 2: 'MAE', 3: 'MSE'}).sort_values(by='Score',ascending=False)"
   ]
  },
  {
   "cell_type": "markdown",
   "id": "9c69b260",
   "metadata": {},
   "source": [
    "<a id=\"3.3\"></a>\n",
    "<div style=\"color:white;\n",
    "           display:fill;\n",
    "           border-radius:30px;\n",
    "           background-color:#A0E4CB;\n",
    "           font-size:200%;\n",
    "           font-family:Verdana;\n",
    "           letter-spacing:0.5px\">\n",
    "\n",
    "<p style=\"padding: 5px;\n",
    "          text-align:center;\n",
    "          color:Black;\">\n",
    "          3.3. Evaluate the models\n",
    "</p>\n",
    "</div>"
   ]
  },
  {
   "cell_type": "code",
   "execution_count": 37,
   "id": "b53ae702",
   "metadata": {},
   "outputs": [
    {
     "data": {
      "text/html": [
       "<div>\n",
       "<style scoped>\n",
       "    .dataframe tbody tr th:only-of-type {\n",
       "        vertical-align: middle;\n",
       "    }\n",
       "\n",
       "    .dataframe tbody tr th {\n",
       "        vertical-align: top;\n",
       "    }\n",
       "\n",
       "    .dataframe thead th {\n",
       "        text-align: right;\n",
       "    }\n",
       "</style>\n",
       "<table border=\"1\" class=\"dataframe\">\n",
       "  <thead>\n",
       "    <tr style=\"text-align: right;\">\n",
       "      <th></th>\n",
       "      <th>Score</th>\n",
       "      <th>Precision</th>\n",
       "      <th>MAE</th>\n",
       "      <th>MSE</th>\n",
       "    </tr>\n",
       "  </thead>\n",
       "  <tbody>\n",
       "    <tr>\n",
       "      <th>XGB Classifier</th>\n",
       "      <td>0.825688</td>\n",
       "      <td>0.835443</td>\n",
       "      <td>0.174312</td>\n",
       "      <td>0.174312</td>\n",
       "    </tr>\n",
       "    <tr>\n",
       "      <th>Logistic Regression</th>\n",
       "      <td>0.816514</td>\n",
       "      <td>0.788889</td>\n",
       "      <td>0.183486</td>\n",
       "      <td>0.183486</td>\n",
       "    </tr>\n",
       "    <tr>\n",
       "      <th>Ridge</th>\n",
       "      <td>0.816514</td>\n",
       "      <td>0.788889</td>\n",
       "      <td>0.183486</td>\n",
       "      <td>0.183486</td>\n",
       "    </tr>\n",
       "    <tr>\n",
       "      <th>Gaussian NB</th>\n",
       "      <td>0.816514</td>\n",
       "      <td>0.788889</td>\n",
       "      <td>0.183486</td>\n",
       "      <td>0.183486</td>\n",
       "    </tr>\n",
       "    <tr>\n",
       "      <th>Bernoulli NB</th>\n",
       "      <td>0.816514</td>\n",
       "      <td>0.788889</td>\n",
       "      <td>0.183486</td>\n",
       "      <td>0.183486</td>\n",
       "    </tr>\n",
       "    <tr>\n",
       "      <th>Random Forest Classifier</th>\n",
       "      <td>0.807339</td>\n",
       "      <td>0.807229</td>\n",
       "      <td>0.192661</td>\n",
       "      <td>0.192661</td>\n",
       "    </tr>\n",
       "    <tr>\n",
       "      <th>Ada Boost Classifier</th>\n",
       "      <td>0.788991</td>\n",
       "      <td>0.781609</td>\n",
       "      <td>0.211009</td>\n",
       "      <td>0.211009</td>\n",
       "    </tr>\n",
       "    <tr>\n",
       "      <th>Decision Tree</th>\n",
       "      <td>0.752294</td>\n",
       "      <td>0.816901</td>\n",
       "      <td>0.247706</td>\n",
       "      <td>0.247706</td>\n",
       "    </tr>\n",
       "    <tr>\n",
       "      <th>NuSVC</th>\n",
       "      <td>0.733945</td>\n",
       "      <td>0.779221</td>\n",
       "      <td>0.266055</td>\n",
       "      <td>0.266055</td>\n",
       "    </tr>\n",
       "    <tr>\n",
       "      <th>SGD Classifier</th>\n",
       "      <td>0.660550</td>\n",
       "      <td>0.660550</td>\n",
       "      <td>0.339450</td>\n",
       "      <td>0.339450</td>\n",
       "    </tr>\n",
       "    <tr>\n",
       "      <th>Support Vector Classifier</th>\n",
       "      <td>0.660550</td>\n",
       "      <td>0.660550</td>\n",
       "      <td>0.339450</td>\n",
       "      <td>0.339450</td>\n",
       "    </tr>\n",
       "    <tr>\n",
       "      <th>Nearest Centroid</th>\n",
       "      <td>0.403670</td>\n",
       "      <td>0.818182</td>\n",
       "      <td>0.596330</td>\n",
       "      <td>0.596330</td>\n",
       "    </tr>\n",
       "    <tr>\n",
       "      <th>Perc</th>\n",
       "      <td>0.339450</td>\n",
       "      <td>0.000000</td>\n",
       "      <td>0.660550</td>\n",
       "      <td>0.660550</td>\n",
       "    </tr>\n",
       "    <tr>\n",
       "      <th>Passive Aggressive</th>\n",
       "      <td>0.339450</td>\n",
       "      <td>0.000000</td>\n",
       "      <td>0.660550</td>\n",
       "      <td>0.660550</td>\n",
       "    </tr>\n",
       "  </tbody>\n",
       "</table>\n",
       "</div>"
      ],
      "text/plain": [
       "                              Score  Precision       MAE       MSE\n",
       "XGB Classifier             0.825688   0.835443  0.174312  0.174312\n",
       "Logistic Regression        0.816514   0.788889  0.183486  0.183486\n",
       "Ridge                      0.816514   0.788889  0.183486  0.183486\n",
       "Gaussian NB                0.816514   0.788889  0.183486  0.183486\n",
       "Bernoulli NB               0.816514   0.788889  0.183486  0.183486\n",
       "Random Forest Classifier   0.807339   0.807229  0.192661  0.192661\n",
       "Ada Boost Classifier       0.788991   0.781609  0.211009  0.211009\n",
       "Decision Tree              0.752294   0.816901  0.247706  0.247706\n",
       "NuSVC                      0.733945   0.779221  0.266055  0.266055\n",
       "SGD Classifier             0.660550   0.660550  0.339450  0.339450\n",
       "Support Vector Classifier  0.660550   0.660550  0.339450  0.339450\n",
       "Nearest Centroid           0.403670   0.818182  0.596330  0.596330\n",
       "Perc                       0.339450   0.000000  0.660550  0.660550\n",
       "Passive Aggressive         0.339450   0.000000  0.660550  0.660550"
      ]
     },
     "execution_count": 37,
     "metadata": {},
     "output_type": "execute_result"
    }
   ],
   "source": [
    "df_results.reset_index()\n",
    "df_results"
   ]
  },
  {
   "cell_type": "markdown",
   "id": "b7d9368f",
   "metadata": {},
   "source": [
    "<a id=\"3.4\"></a>\n",
    "<div style=\"color:white;\n",
    "           display:fill;\n",
    "           border-radius:30px;\n",
    "           background-color:#A0E4CB;\n",
    "           font-size:200%;\n",
    "           font-family:Verdana;\n",
    "           letter-spacing:0.5px\">\n",
    "\n",
    "<p style=\"padding: 5px;\n",
    "          text-align:center;\n",
    "          color:Black;\">\n",
    "          3.4. Confusion Matrix\n",
    "</p>\n",
    "</div>"
   ]
  },
  {
   "cell_type": "markdown",
   "id": "bb266d77",
   "metadata": {},
   "source": [
    "A confusion matrix is a summary of prediction results on a classification problem. The number of correct and incorrect predictions are summarized with count values and broken down by each class. It gives us insight not only into the errors being made by a classifier but more importantly the types of errors that are being made."
   ]
  },
  {
   "cell_type": "code",
   "execution_count": 38,
   "id": "e299b68c",
   "metadata": {},
   "outputs": [
    {
     "data": {
      "text/html": [
       "<style>#sk-container-id-1 {color: black;background-color: white;}#sk-container-id-1 pre{padding: 0;}#sk-container-id-1 div.sk-toggleable {background-color: white;}#sk-container-id-1 label.sk-toggleable__label {cursor: pointer;display: block;width: 100%;margin-bottom: 0;padding: 0.3em;box-sizing: border-box;text-align: center;}#sk-container-id-1 label.sk-toggleable__label-arrow:before {content: \"▸\";float: left;margin-right: 0.25em;color: #696969;}#sk-container-id-1 label.sk-toggleable__label-arrow:hover:before {color: black;}#sk-container-id-1 div.sk-estimator:hover label.sk-toggleable__label-arrow:before {color: black;}#sk-container-id-1 div.sk-toggleable__content {max-height: 0;max-width: 0;overflow: hidden;text-align: left;background-color: #f0f8ff;}#sk-container-id-1 div.sk-toggleable__content pre {margin: 0.2em;color: black;border-radius: 0.25em;background-color: #f0f8ff;}#sk-container-id-1 input.sk-toggleable__control:checked~div.sk-toggleable__content {max-height: 200px;max-width: 100%;overflow: auto;}#sk-container-id-1 input.sk-toggleable__control:checked~label.sk-toggleable__label-arrow:before {content: \"▾\";}#sk-container-id-1 div.sk-estimator input.sk-toggleable__control:checked~label.sk-toggleable__label {background-color: #d4ebff;}#sk-container-id-1 div.sk-label input.sk-toggleable__control:checked~label.sk-toggleable__label {background-color: #d4ebff;}#sk-container-id-1 input.sk-hidden--visually {border: 0;clip: rect(1px 1px 1px 1px);clip: rect(1px, 1px, 1px, 1px);height: 1px;margin: -1px;overflow: hidden;padding: 0;position: absolute;width: 1px;}#sk-container-id-1 div.sk-estimator {font-family: monospace;background-color: #f0f8ff;border: 1px dotted black;border-radius: 0.25em;box-sizing: border-box;margin-bottom: 0.5em;}#sk-container-id-1 div.sk-estimator:hover {background-color: #d4ebff;}#sk-container-id-1 div.sk-parallel-item::after {content: \"\";width: 100%;border-bottom: 1px solid gray;flex-grow: 1;}#sk-container-id-1 div.sk-label:hover label.sk-toggleable__label {background-color: #d4ebff;}#sk-container-id-1 div.sk-serial::before {content: \"\";position: absolute;border-left: 1px solid gray;box-sizing: border-box;top: 0;bottom: 0;left: 50%;z-index: 0;}#sk-container-id-1 div.sk-serial {display: flex;flex-direction: column;align-items: center;background-color: white;padding-right: 0.2em;padding-left: 0.2em;position: relative;}#sk-container-id-1 div.sk-item {position: relative;z-index: 1;}#sk-container-id-1 div.sk-parallel {display: flex;align-items: stretch;justify-content: center;background-color: white;position: relative;}#sk-container-id-1 div.sk-item::before, #sk-container-id-1 div.sk-parallel-item::before {content: \"\";position: absolute;border-left: 1px solid gray;box-sizing: border-box;top: 0;bottom: 0;left: 50%;z-index: -1;}#sk-container-id-1 div.sk-parallel-item {display: flex;flex-direction: column;z-index: 1;position: relative;background-color: white;}#sk-container-id-1 div.sk-parallel-item:first-child::after {align-self: flex-end;width: 50%;}#sk-container-id-1 div.sk-parallel-item:last-child::after {align-self: flex-start;width: 50%;}#sk-container-id-1 div.sk-parallel-item:only-child::after {width: 0;}#sk-container-id-1 div.sk-dashed-wrapped {border: 1px dashed gray;margin: 0 0.4em 0.5em 0.4em;box-sizing: border-box;padding-bottom: 0.4em;background-color: white;}#sk-container-id-1 div.sk-label label {font-family: monospace;font-weight: bold;display: inline-block;line-height: 1.2em;}#sk-container-id-1 div.sk-label-container {text-align: center;}#sk-container-id-1 div.sk-container {/* jupyter's `normalize.less` sets `[hidden] { display: none; }` but bootstrap.min.css set `[hidden] { display: none !important; }` so we also need the `!important` here to be able to override the default hidden behavior on the sphinx rendered scikit-learn.org. See: https://github.com/scikit-learn/scikit-learn/issues/21755 */display: inline-block !important;position: relative;}#sk-container-id-1 div.sk-text-repr-fallback {display: none;}</style><div id=\"sk-container-id-1\" class=\"sk-top-container\"><div class=\"sk-text-repr-fallback\"><pre>XGBClassifier(base_score=0.5, booster=&#x27;gbtree&#x27;, callbacks=None,\n",
       "              colsample_bylevel=1, colsample_bynode=1, colsample_bytree=1,\n",
       "              early_stopping_rounds=None, enable_categorical=False,\n",
       "              eval_metric=None, feature_types=None, gamma=0, gpu_id=-1,\n",
       "              grow_policy=&#x27;depthwise&#x27;, importance_type=None,\n",
       "              interaction_constraints=&#x27;&#x27;, learning_rate=0.300000012,\n",
       "              max_bin=256, max_cat_threshold=64, max_cat_to_onehot=4,\n",
       "              max_delta_step=0, max_depth=6, max_leaves=0, min_child_weight=1,\n",
       "              missing=nan, monotone_constraints=&#x27;()&#x27;, n_estimators=100,\n",
       "              n_jobs=0, num_parallel_tree=1, predictor=&#x27;auto&#x27;, random_state=0, ...)</pre><b>In a Jupyter environment, please rerun this cell to show the HTML representation or trust the notebook. <br />On GitHub, the HTML representation is unable to render, please try loading this page with nbviewer.org.</b></div><div class=\"sk-container\" hidden><div class=\"sk-item\"><div class=\"sk-estimator sk-toggleable\"><input class=\"sk-toggleable__control sk-hidden--visually\" id=\"sk-estimator-id-1\" type=\"checkbox\" checked><label for=\"sk-estimator-id-1\" class=\"sk-toggleable__label sk-toggleable__label-arrow\">XGBClassifier</label><div class=\"sk-toggleable__content\"><pre>XGBClassifier(base_score=0.5, booster=&#x27;gbtree&#x27;, callbacks=None,\n",
       "              colsample_bylevel=1, colsample_bynode=1, colsample_bytree=1,\n",
       "              early_stopping_rounds=None, enable_categorical=False,\n",
       "              eval_metric=None, feature_types=None, gamma=0, gpu_id=-1,\n",
       "              grow_policy=&#x27;depthwise&#x27;, importance_type=None,\n",
       "              interaction_constraints=&#x27;&#x27;, learning_rate=0.300000012,\n",
       "              max_bin=256, max_cat_threshold=64, max_cat_to_onehot=4,\n",
       "              max_delta_step=0, max_depth=6, max_leaves=0, min_child_weight=1,\n",
       "              missing=nan, monotone_constraints=&#x27;()&#x27;, n_estimators=100,\n",
       "              n_jobs=0, num_parallel_tree=1, predictor=&#x27;auto&#x27;, random_state=0, ...)</pre></div></div></div></div></div>"
      ],
      "text/plain": [
       "XGBClassifier(base_score=0.5, booster='gbtree', callbacks=None,\n",
       "              colsample_bylevel=1, colsample_bynode=1, colsample_bytree=1,\n",
       "              early_stopping_rounds=None, enable_categorical=False,\n",
       "              eval_metric=None, feature_types=None, gamma=0, gpu_id=-1,\n",
       "              grow_policy='depthwise', importance_type=None,\n",
       "              interaction_constraints='', learning_rate=0.300000012,\n",
       "              max_bin=256, max_cat_threshold=64, max_cat_to_onehot=4,\n",
       "              max_delta_step=0, max_depth=6, max_leaves=0, min_child_weight=1,\n",
       "              missing=nan, monotone_constraints='()', n_estimators=100,\n",
       "              n_jobs=0, num_parallel_tree=1, predictor='auto', random_state=0, ...)"
      ]
     },
     "execution_count": 38,
     "metadata": {},
     "output_type": "execute_result"
    }
   ],
   "source": [
    "model = XGBClassifier(verbosity = 0)\n",
    "model.fit(X_train, y_train)"
   ]
  },
  {
   "cell_type": "code",
   "execution_count": 39,
   "id": "0ad93adf",
   "metadata": {},
   "outputs": [
    {
     "data": {
      "text/plain": [
       "array([[24, 13],\n",
       "       [ 6, 66]], dtype=int64)"
      ]
     },
     "execution_count": 39,
     "metadata": {},
     "output_type": "execute_result"
    }
   ],
   "source": [
    "from sklearn.metrics import confusion_matrix\n",
    "y_pred = model.predict(X_test)\n",
    "cm = confusion_matrix(y_test, y_pred)\n",
    "cm"
   ]
  },
  {
   "cell_type": "code",
   "execution_count": 40,
   "id": "9585f57a",
   "metadata": {},
   "outputs": [
    {
     "data": {
      "text/plain": [
       "<AxesSubplot:>"
      ]
     },
     "execution_count": 40,
     "metadata": {},
     "output_type": "execute_result"
    },
    {
     "data": {
      "image/png": "[encoded data removed]",
      "text/plain": [
       "<Figure size 432x288 with 2 Axes>"
      ]
     },
     "metadata": {
      "needs_background": "light"
     },
     "output_type": "display_data"
    }
   ],
   "source": [
    "sns.heatmap(cm, annot=True)"
   ]
  },
  {
   "cell_type": "markdown",
   "id": "a9023d21",
   "metadata": {},
   "source": [
    "<a id=\"4\"></a>\n",
    "<div style=\"color:white;\n",
    "           display:fill;\n",
    "           border-radius:30px;\n",
    "           background-color:#59C1BD;\n",
    "           font-size:250%;\n",
    "           font-family:Verdana;\n",
    "           letter-spacing:0.5px\">\n",
    "\n",
    "<p style=\"padding: 10px;\n",
    "          text-align:center;\n",
    "          color:white;\">\n",
    "          4. CONCLUSION & RECOMMENDATIONS\n",
    "</p>\n",
    "</div>"
   ]
  },
  {
   "cell_type": "markdown",
   "id": "41e249dd",
   "metadata": {},
   "source": [
    "[Return Table of Contents](#Table)"
   ]
  },
  {
   "cell_type": "markdown",
   "id": "68efbcb4",
   "metadata": {},
   "source": [
    "<a id=\"4.1\"></a>\n",
    "<div style=\"color:white;\n",
    "           display:fill;\n",
    "           border-radius:30px;\n",
    "           background-color:#A0E4CB;\n",
    "           font-size:200%;\n",
    "           font-family:Verdana;\n",
    "           letter-spacing:0.5px\">\n",
    "\n",
    "<p style=\"padding: 5px;\n",
    "          text-align:center;\n",
    "          color:Black;\">\n",
    "          4.1. Model selection\n",
    "</p>\n",
    "</div>"
   ]
  },
  {
   "cell_type": "markdown",
   "id": "61643289",
   "metadata": {},
   "source": [
    "#### From the model evaluation above, our group has concluded that XGB Classifier Model is the optimal prediction model with the highest accuracy score, high precision, low mean squared error and low mean absolute error"
   ]
  },
  {
   "cell_type": "markdown",
   "id": "161ebc20",
   "metadata": {},
   "source": [
    "<a id=\"4.1\"></a>\n",
    "<div style=\"color:white;\n",
    "           display:fill;\n",
    "           border-radius:30px;\n",
    "           background-color:#A0E4CB;\n",
    "           font-size:200%;\n",
    "           font-family:Verdana;\n",
    "           letter-spacing:0.5px\">\n",
    "\n",
    "<p style=\"padding: 5px;\n",
    "          text-align:center;\n",
    "          color:Black;\">\n",
    "          4.1. Loan Prediction Model Deployment\n",
    "</p>\n",
    "</div>"
   ]
  },
  {
   "cell_type": "code",
   "execution_count": 41,
   "id": "906640e2",
   "metadata": {},
   "outputs": [],
   "source": [
    "import pickle"
   ]
  },
  {
   "cell_type": "code",
   "execution_count": 42,
   "id": "11b12354",
   "metadata": {},
   "outputs": [],
   "source": [
    "filename = 'Loan_prediction.sav'\n",
    "pickle.dump(model, open(filename, 'wb'))"
   ]
  },
  {
   "cell_type": "code",
   "execution_count": 43,
   "id": "32c53278",
   "metadata": {},
   "outputs": [],
   "source": [
    "loaded_model = pickle.load(open('Loan_prediction.sav', 'rb'))"
   ]
  },
  {
   "cell_type": "markdown",
   "id": "1d7a1da0",
   "metadata": {},
   "source": [
    "### Test model deployment with the X_test dataset"
   ]
  },
  {
   "cell_type": "code",
   "execution_count": 44,
   "id": "e023cbef",
   "metadata": {},
   "outputs": [
    {
     "data": {
      "text/html": [
       "<div>\n",
       "<style scoped>\n",
       "    .dataframe tbody tr th:only-of-type {\n",
       "        vertical-align: middle;\n",
       "    }\n",
       "\n",
       "    .dataframe tbody tr th {\n",
       "        vertical-align: top;\n",
       "    }\n",
       "\n",
       "    .dataframe thead th {\n",
       "        text-align: right;\n",
       "    }\n",
       "</style>\n",
       "<table border=\"1\" class=\"dataframe\">\n",
       "  <thead>\n",
       "    <tr style=\"text-align: right;\">\n",
       "      <th></th>\n",
       "      <th>Gender</th>\n",
       "      <th>Married</th>\n",
       "      <th>Dependents</th>\n",
       "      <th>Education</th>\n",
       "      <th>Self_Employed</th>\n",
       "      <th>Loan_Amount_Term</th>\n",
       "      <th>Credit_History</th>\n",
       "      <th>Property_Area</th>\n",
       "      <th>Loan_Amount_Log</th>\n",
       "      <th>Applicant_Income_Log</th>\n",
       "      <th>Coapplicant_Income_Log</th>\n",
       "    </tr>\n",
       "  </thead>\n",
       "  <tbody>\n",
       "    <tr>\n",
       "      <th>269</th>\n",
       "      <td>0</td>\n",
       "      <td>0</td>\n",
       "      <td>1</td>\n",
       "      <td>0</td>\n",
       "      <td>0</td>\n",
       "      <td>360</td>\n",
       "      <td>1.0</td>\n",
       "      <td>2</td>\n",
       "      <td>4.49981</td>\n",
       "      <td>7.964156</td>\n",
       "      <td>7.352441</td>\n",
       "    </tr>\n",
       "  </tbody>\n",
       "</table>\n",
       "</div>"
      ],
      "text/plain": [
       "     Gender  Married  Dependents  Education  Self_Employed  Loan_Amount_Term  \\\n",
       "269       0        0           1          0              0               360   \n",
       "\n",
       "     Credit_History  Property_Area  Loan_Amount_Log  Applicant_Income_Log  \\\n",
       "269             1.0              2          4.49981              7.964156   \n",
       "\n",
       "     Coapplicant_Income_Log  \n",
       "269                7.352441  "
      ]
     },
     "execution_count": 44,
     "metadata": {},
     "output_type": "execute_result"
    }
   ],
   "source": [
    "X_test.head(1)"
   ]
  },
  {
   "cell_type": "code",
   "execution_count": 45,
   "id": "a926f383",
   "metadata": {},
   "outputs": [
    {
     "name": "stdout",
     "output_type": "stream",
     "text": [
      "[1]\n",
      "Loan approved!\n"
     ]
    }
   ],
   "source": [
    "input_data = (0,0,1,0,0,360,1.0,2,4.49981,7.964156,7.352441)\n",
    "\n",
    "input_data_array = np.asarray(input_data)\n",
    "\n",
    "input_data_reshaped = input_data_array.reshape(1,-1)\n",
    "\n",
    "prediction = loaded_model.predict(input_data_reshaped)\n",
    "print(prediction)\n",
    "\n",
    "if (prediction[0] == 0):\n",
    "  print('Loan disapproved!')\n",
    "else:\n",
    "  print('Loan approved!')"
   ]
  },
  {
   "cell_type": "markdown",
   "id": "40d533b4",
   "metadata": {},
   "source": [
    "### Model Deployment 1"
   ]
  },
  {
   "cell_type": "code",
   "execution_count": 47,
   "id": "2a9a21bc",
   "metadata": {},
   "outputs": [
    {
     "data": {
      "text/plain": [
       "Loan_ID                       LP001754\n",
       "Gender                            Male\n",
       "Married                            Yes\n",
       "Dependents                           0\n",
       "Education                 Not Graduate\n",
       "Self_Employed                      Yes\n",
       "ApplicantIncome                 4735.0\n",
       "CoapplicantIncome                  0.0\n",
       "LoanAmount                       138.0\n",
       "Loan_Amount_Term                   360\n",
       "Credit_History                     1.0\n",
       "Property_Area                    Urban\n",
       "Loan_Status                          N\n",
       "Loan_Amount_Log               4.927254\n",
       "Applicant_Income_Log          8.462737\n",
       "Coapplicant_Income_Log             0.0\n",
       "Name: 226, dtype: object"
      ]
     },
     "execution_count": 47,
     "metadata": {},
     "output_type": "execute_result"
    }
   ],
   "source": [
    "df.iloc[200,:]"
   ]
  },
  {
   "cell_type": "code",
   "execution_count": 50,
   "id": "b0a6d1de",
   "metadata": {},
   "outputs": [
    {
     "name": "stdout",
     "output_type": "stream",
     "text": [
      "Gender (Female=0, Male=1): 1\n",
      "Maritual Status (Not Married=0, Married=1): 1\n",
      "Number of dependents: 0\n",
      "Education (Graduate=0, Not graduate=1): 1\n",
      "Self Employment (No=0, Yes=1): 1\n",
      "Applicant income: 4735\n",
      "Coapplicant income: 0\n",
      "Loan amount in thousands: 138\n",
      "Term of a loan in months: 360\n",
      "Credit history meets guidelines: 1\n",
      "Property Area (Rural=0, Semi-Urban=1, Urban=2): 2\n",
      "[0]\n",
      "Loan disapproved\n"
     ]
    }
   ],
   "source": [
    "Gender = input('Gender (Female=0, Male=1): ')\n",
    "Married = input('Maritual Status (Not Married=0, Married=1): ')\n",
    "Dependents = input('Number of dependents: ')\n",
    "Education = input('Education (Graduate=0, Not graduate=1): ')\n",
    "Self_Employed = input('Self Employment (No=0, Yes=1): ')\n",
    "ApplicantIncome = input('Applicant income: ')\n",
    "CoapplicantIncome = input('Coapplicant income: ')\n",
    "LoanAmount = input('Loan amount in thousands: ')\n",
    "Loan_Amount_Term = input('Term of a loan in months: ')\n",
    "Credit_History = input('Credit history meets guidelines: ')\n",
    "Property_Area = input('Property Area (Rural=0, Semi-Urban=1, Urban=2): ')\n",
    "\n",
    "input_data = (Gender, Married, Dependents, Education, Self_Employed, Loan_Amount_Term, Credit_History, Property_Area, LoanAmount, ApplicantIncome, CoapplicantIncome)\n",
    "\n",
    "# changing the input_data to numpy array\n",
    "input_data_array = np.asarray(input_data, dtype=np.float64)\n",
    "    \n",
    "    # normalize data\n",
    "input_data_array[8] = np.log(input_data_array[8])\n",
    "input_data_array[9] = np.log(input_data_array[9])\n",
    "input_data_array[10] = np.log(input_data_array[10]+1)\n",
    "input_data_array[10] = str(input_data_array[10]).replace('-inf', '0')\n",
    "    \n",
    "    # change dtype to object\n",
    "input_data_array = input_data_array.astype('object')\n",
    "\n",
    "    # reshape the array as we are predicting for one instance\n",
    "input_data_reshaped = input_data_array.reshape(1,-1)\n",
    "\n",
    "prediction = loaded_model.predict(input_data_reshaped)\n",
    "print(prediction)\n",
    "    \n",
    "\n",
    "if (prediction[0] == 0):\n",
    "    print('Loan disapproved!')\n",
    "else:\n",
    "    print('Loan approved!')"
   ]
  },
  {
   "cell_type": "markdown",
   "id": "a17304dc",
   "metadata": {},
   "source": [
    "### Model Deployment 2"
   ]
  },
  {
   "cell_type": "markdown",
   "id": "5859ff0d",
   "metadata": {},
   "source": [
    "Our group's second idea is to deploy the model using Spyder app in Anaconda and create a form for users to fill in. We use streamlit to run the file from the command prompt, then fill in the form opened. A loan prediction result will be generated automatically"
   ]
  },
  {
   "cell_type": "markdown",
   "id": "c8859d53",
   "metadata": {},
   "source": [
    "<a id=\"5\"></a>\n",
    "<div style=\"color:white;\n",
    "           display:fill;\n",
    "           border-radius:30px;\n",
    "           background-color:#59C1BD;\n",
    "           font-size:250%;\n",
    "           font-family:Verdana;\n",
    "           letter-spacing:0.5px\">\n",
    "\n",
    "<p style=\"padding: 10px;\n",
    "          text-align:center;\n",
    "          color:white;\">\n",
    "          5. REFERENCE\n",
    "</p>\n",
    "</div>"
   ]
  },
  {
   "cell_type": "markdown",
   "id": "3d933ee3",
   "metadata": {},
   "source": [
    "[Return Table of Contents](#Table)"
   ]
  },
  {
   "cell_type": "markdown",
   "id": "598759ff",
   "metadata": {},
   "source": [
    "* [Loan Status Prediction using Machine Learning with Python - \n",
    "Siddhardhan](https://www.youtube.com/watch?v=XckM1pFgZmg)\n",
    "* [Loan Eligibility Prediction Tutorial - Edureka](https://www.youtube.com/watch?v=T9kgWBmUIRk)\n",
    "* [Loan Prediction Project using Machine Learning in Python - CodeSpeedy](https://www.codespeedy.com/loan-prediction-project-using-machine-learning-in-python/)\n",
    "* [Loan Approval Prediction using Machine Learning - Simplilearn](https://www.youtube.com/watch?v=x2NrPeHSPU0)\n",
    "* [Deploy Machine Learning Model using Streamlit in Python - Siddhardhan](https://www.youtube.com/watch?v=WLwjvWq0GWA)"
   ]
  }
 ],
 "metadata": {
  "kernelspec": {
   "display_name": "Python 3",
   "language": "python",
   "name": "python3"
  },
  "language_info": {
   "codemirror_mode": {
    "name": "ipython",
    "version": 3
   },
   "file_extension": ".py",
   "mimetype": "text/x-python",
   "name": "python",
   "nbconvert_exporter": "python",
   "pygments_lexer": "ipython3",
   "version": "3.8.8"
  }
 },
 "nbformat": 4,
 "nbformat_minor": 5
}
